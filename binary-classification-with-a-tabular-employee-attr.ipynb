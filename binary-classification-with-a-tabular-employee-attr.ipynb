{
 "cells": [
  {
   "cell_type": "code",
   "execution_count": 1,
   "id": "4892474e",
   "metadata": {
    "_cell_guid": "b1076dfc-b9ad-4769-8c92-a6c4dae69d19",
    "_uuid": "8f2839f25d086af736a60e9eeb907d3b93b6e0e5",
    "execution": {
     "iopub.execute_input": "2023-06-20T15:39:04.744107Z",
     "iopub.status.busy": "2023-06-20T15:39:04.743729Z",
     "iopub.status.idle": "2023-06-20T15:39:06.484927Z",
     "shell.execute_reply": "2023-06-20T15:39:06.483751Z"
    },
    "papermill": {
     "duration": 1.754217,
     "end_time": "2023-06-20T15:39:06.488006",
     "exception": false,
     "start_time": "2023-06-20T15:39:04.733789",
     "status": "completed"
    },
    "tags": []
   },
   "outputs": [
    {
     "name": "stdout",
     "output_type": "stream",
     "text": [
      "/kaggle/input/playground-series-s3e3/sample_submission.csv\n",
      "/kaggle/input/playground-series-s3e3/train.csv\n",
      "/kaggle/input/playground-series-s3e3/test.csv\n"
     ]
    }
   ],
   "source": [
    "# This Python 3 environment comes with many helpful analytics libraries installed\n",
    "# It is defined by the kaggle/python Docker image: https://github.com/kaggle/docker-python\n",
    "# For example, here's several helpful packages to load\n",
    "\n",
    "import numpy as np # linear algebra\n",
    "import pandas as pd # data processing, CSV file I/O (e.g. pd.read_csv)\n",
    "import matplotlib.pyplot as plt\n",
    "import seaborn as sns\n",
    "\n",
    "import sklearn.metrics\n",
    "from sklearn.metrics import accuracy_score  \n",
    "from sklearn.metrics import precision_score \n",
    "from sklearn.metrics import classification_report \n",
    "from sklearn.model_selection import train_test_split \n",
    "from sklearn.preprocessing import StandardScaler\n",
    "\n",
    "\n",
    "from sklearn.naive_bayes import GaussianNB \n",
    "from sklearn.ensemble import RandomForestClassifier \n",
    "\n",
    "# Input data files are available in the read-only \"../input/\" directory\n",
    "# For example, running this (by clicking run or pressing Shift+Enter) will list all files under the input directory\n",
    "\n",
    "import os\n",
    "for dirname, _, filenames in os.walk('/kaggle/input'):\n",
    "    for filename in filenames:\n",
    "        print(os.path.join(dirname, filename))\n",
    "\n",
    "# You can write up to 20GB to the current directory (/kaggle/working/) that gets preserved as output when you create a version using \"Save & Run All\" \n",
    "# You can also write temporary files to /kaggle/temp/, but they won't be saved outside of the current session"
   ]
  },
  {
   "cell_type": "code",
   "execution_count": 2,
   "id": "8d0522b2",
   "metadata": {
    "execution": {
     "iopub.execute_input": "2023-06-20T15:39:06.505200Z",
     "iopub.status.busy": "2023-06-20T15:39:06.504788Z",
     "iopub.status.idle": "2023-06-20T15:39:06.568545Z",
     "shell.execute_reply": "2023-06-20T15:39:06.567548Z"
    },
    "papermill": {
     "duration": 0.075369,
     "end_time": "2023-06-20T15:39:06.571449",
     "exception": false,
     "start_time": "2023-06-20T15:39:06.496080",
     "status": "completed"
    },
    "tags": []
   },
   "outputs": [],
   "source": [
    "#Importando os CSVs\n",
    "sample_submissiom = pd.read_csv(\"/kaggle/input/playground-series-s3e3/sample_submission.csv\")\n",
    "train = pd.read_csv(\"/kaggle/input/playground-series-s3e3/train.csv\")\n",
    "test = pd.read_csv(\"/kaggle/input/playground-series-s3e3/test.csv\")"
   ]
  },
  {
   "cell_type": "markdown",
   "id": "8086875f",
   "metadata": {
    "papermill": {
     "duration": 0.007799,
     "end_time": "2023-06-20T15:39:06.587283",
     "exception": false,
     "start_time": "2023-06-20T15:39:06.579484",
     "status": "completed"
    },
    "tags": []
   },
   "source": [
    "# Visão Geral dos Dados"
   ]
  },
  {
   "cell_type": "code",
   "execution_count": 3,
   "id": "06c883e3",
   "metadata": {
    "execution": {
     "iopub.execute_input": "2023-06-20T15:39:06.604461Z",
     "iopub.status.busy": "2023-06-20T15:39:06.603528Z",
     "iopub.status.idle": "2023-06-20T15:39:06.640994Z",
     "shell.execute_reply": "2023-06-20T15:39:06.639962Z"
    },
    "papermill": {
     "duration": 0.048651,
     "end_time": "2023-06-20T15:39:06.643287",
     "exception": false,
     "start_time": "2023-06-20T15:39:06.594636",
     "status": "completed"
    },
    "tags": []
   },
   "outputs": [
    {
     "data": {
      "text/html": [
       "<div>\n",
       "<style scoped>\n",
       "    .dataframe tbody tr th:only-of-type {\n",
       "        vertical-align: middle;\n",
       "    }\n",
       "\n",
       "    .dataframe tbody tr th {\n",
       "        vertical-align: top;\n",
       "    }\n",
       "\n",
       "    .dataframe thead th {\n",
       "        text-align: right;\n",
       "    }\n",
       "</style>\n",
       "<table border=\"1\" class=\"dataframe\">\n",
       "  <thead>\n",
       "    <tr style=\"text-align: right;\">\n",
       "      <th></th>\n",
       "      <th>id</th>\n",
       "      <th>Age</th>\n",
       "      <th>BusinessTravel</th>\n",
       "      <th>DailyRate</th>\n",
       "      <th>Department</th>\n",
       "      <th>DistanceFromHome</th>\n",
       "      <th>Education</th>\n",
       "      <th>EducationField</th>\n",
       "      <th>EmployeeCount</th>\n",
       "      <th>EnvironmentSatisfaction</th>\n",
       "      <th>...</th>\n",
       "      <th>StandardHours</th>\n",
       "      <th>StockOptionLevel</th>\n",
       "      <th>TotalWorkingYears</th>\n",
       "      <th>TrainingTimesLastYear</th>\n",
       "      <th>WorkLifeBalance</th>\n",
       "      <th>YearsAtCompany</th>\n",
       "      <th>YearsInCurrentRole</th>\n",
       "      <th>YearsSinceLastPromotion</th>\n",
       "      <th>YearsWithCurrManager</th>\n",
       "      <th>Attrition</th>\n",
       "    </tr>\n",
       "  </thead>\n",
       "  <tbody>\n",
       "    <tr>\n",
       "      <th>0</th>\n",
       "      <td>0</td>\n",
       "      <td>36</td>\n",
       "      <td>Travel_Frequently</td>\n",
       "      <td>599</td>\n",
       "      <td>Research &amp; Development</td>\n",
       "      <td>24</td>\n",
       "      <td>3</td>\n",
       "      <td>Medical</td>\n",
       "      <td>1</td>\n",
       "      <td>4</td>\n",
       "      <td>...</td>\n",
       "      <td>80</td>\n",
       "      <td>1</td>\n",
       "      <td>10</td>\n",
       "      <td>2</td>\n",
       "      <td>3</td>\n",
       "      <td>10</td>\n",
       "      <td>0</td>\n",
       "      <td>7</td>\n",
       "      <td>8</td>\n",
       "      <td>0</td>\n",
       "    </tr>\n",
       "    <tr>\n",
       "      <th>1</th>\n",
       "      <td>1</td>\n",
       "      <td>35</td>\n",
       "      <td>Travel_Rarely</td>\n",
       "      <td>921</td>\n",
       "      <td>Sales</td>\n",
       "      <td>8</td>\n",
       "      <td>3</td>\n",
       "      <td>Other</td>\n",
       "      <td>1</td>\n",
       "      <td>1</td>\n",
       "      <td>...</td>\n",
       "      <td>80</td>\n",
       "      <td>1</td>\n",
       "      <td>4</td>\n",
       "      <td>3</td>\n",
       "      <td>3</td>\n",
       "      <td>4</td>\n",
       "      <td>2</td>\n",
       "      <td>0</td>\n",
       "      <td>3</td>\n",
       "      <td>0</td>\n",
       "    </tr>\n",
       "    <tr>\n",
       "      <th>2</th>\n",
       "      <td>2</td>\n",
       "      <td>32</td>\n",
       "      <td>Travel_Rarely</td>\n",
       "      <td>718</td>\n",
       "      <td>Sales</td>\n",
       "      <td>26</td>\n",
       "      <td>3</td>\n",
       "      <td>Marketing</td>\n",
       "      <td>1</td>\n",
       "      <td>3</td>\n",
       "      <td>...</td>\n",
       "      <td>80</td>\n",
       "      <td>2</td>\n",
       "      <td>4</td>\n",
       "      <td>3</td>\n",
       "      <td>3</td>\n",
       "      <td>3</td>\n",
       "      <td>2</td>\n",
       "      <td>1</td>\n",
       "      <td>2</td>\n",
       "      <td>0</td>\n",
       "    </tr>\n",
       "    <tr>\n",
       "      <th>3</th>\n",
       "      <td>3</td>\n",
       "      <td>38</td>\n",
       "      <td>Travel_Rarely</td>\n",
       "      <td>1488</td>\n",
       "      <td>Research &amp; Development</td>\n",
       "      <td>2</td>\n",
       "      <td>3</td>\n",
       "      <td>Medical</td>\n",
       "      <td>1</td>\n",
       "      <td>3</td>\n",
       "      <td>...</td>\n",
       "      <td>80</td>\n",
       "      <td>0</td>\n",
       "      <td>15</td>\n",
       "      <td>1</td>\n",
       "      <td>1</td>\n",
       "      <td>6</td>\n",
       "      <td>0</td>\n",
       "      <td>0</td>\n",
       "      <td>2</td>\n",
       "      <td>0</td>\n",
       "    </tr>\n",
       "    <tr>\n",
       "      <th>4</th>\n",
       "      <td>4</td>\n",
       "      <td>50</td>\n",
       "      <td>Travel_Rarely</td>\n",
       "      <td>1017</td>\n",
       "      <td>Research &amp; Development</td>\n",
       "      <td>5</td>\n",
       "      <td>4</td>\n",
       "      <td>Medical</td>\n",
       "      <td>1</td>\n",
       "      <td>2</td>\n",
       "      <td>...</td>\n",
       "      <td>80</td>\n",
       "      <td>0</td>\n",
       "      <td>31</td>\n",
       "      <td>0</td>\n",
       "      <td>3</td>\n",
       "      <td>31</td>\n",
       "      <td>14</td>\n",
       "      <td>4</td>\n",
       "      <td>10</td>\n",
       "      <td>1</td>\n",
       "    </tr>\n",
       "  </tbody>\n",
       "</table>\n",
       "<p>5 rows × 35 columns</p>\n",
       "</div>"
      ],
      "text/plain": [
       "   id  Age     BusinessTravel  DailyRate              Department  \\\n",
       "0   0   36  Travel_Frequently        599  Research & Development   \n",
       "1   1   35      Travel_Rarely        921                   Sales   \n",
       "2   2   32      Travel_Rarely        718                   Sales   \n",
       "3   3   38      Travel_Rarely       1488  Research & Development   \n",
       "4   4   50      Travel_Rarely       1017  Research & Development   \n",
       "\n",
       "   DistanceFromHome  Education EducationField  EmployeeCount  \\\n",
       "0                24          3        Medical              1   \n",
       "1                 8          3          Other              1   \n",
       "2                26          3      Marketing              1   \n",
       "3                 2          3        Medical              1   \n",
       "4                 5          4        Medical              1   \n",
       "\n",
       "   EnvironmentSatisfaction  ... StandardHours  StockOptionLevel  \\\n",
       "0                        4  ...            80                 1   \n",
       "1                        1  ...            80                 1   \n",
       "2                        3  ...            80                 2   \n",
       "3                        3  ...            80                 0   \n",
       "4                        2  ...            80                 0   \n",
       "\n",
       "   TotalWorkingYears  TrainingTimesLastYear WorkLifeBalance  YearsAtCompany  \\\n",
       "0                 10                      2               3              10   \n",
       "1                  4                      3               3               4   \n",
       "2                  4                      3               3               3   \n",
       "3                 15                      1               1               6   \n",
       "4                 31                      0               3              31   \n",
       "\n",
       "  YearsInCurrentRole  YearsSinceLastPromotion  YearsWithCurrManager  Attrition  \n",
       "0                  0                        7                     8          0  \n",
       "1                  2                        0                     3          0  \n",
       "2                  2                        1                     2          0  \n",
       "3                  0                        0                     2          0  \n",
       "4                 14                        4                    10          1  \n",
       "\n",
       "[5 rows x 35 columns]"
      ]
     },
     "execution_count": 3,
     "metadata": {},
     "output_type": "execute_result"
    }
   ],
   "source": [
    "train.head()"
   ]
  },
  {
   "cell_type": "code",
   "execution_count": 4,
   "id": "41d4f355",
   "metadata": {
    "execution": {
     "iopub.execute_input": "2023-06-20T15:39:06.662591Z",
     "iopub.status.busy": "2023-06-20T15:39:06.662247Z",
     "iopub.status.idle": "2023-06-20T15:39:06.668377Z",
     "shell.execute_reply": "2023-06-20T15:39:06.667511Z"
    },
    "papermill": {
     "duration": 0.017141,
     "end_time": "2023-06-20T15:39:06.670334",
     "exception": false,
     "start_time": "2023-06-20T15:39:06.653193",
     "status": "completed"
    },
    "tags": []
   },
   "outputs": [
    {
     "data": {
      "text/plain": [
       "(1677, 35)"
      ]
     },
     "execution_count": 4,
     "metadata": {},
     "output_type": "execute_result"
    }
   ],
   "source": [
    "train.shape"
   ]
  },
  {
   "cell_type": "code",
   "execution_count": 5,
   "id": "cda5606d",
   "metadata": {
    "execution": {
     "iopub.execute_input": "2023-06-20T15:39:06.688642Z",
     "iopub.status.busy": "2023-06-20T15:39:06.688098Z",
     "iopub.status.idle": "2023-06-20T15:39:06.699383Z",
     "shell.execute_reply": "2023-06-20T15:39:06.698810Z"
    },
    "papermill": {
     "duration": 0.022511,
     "end_time": "2023-06-20T15:39:06.701192",
     "exception": false,
     "start_time": "2023-06-20T15:39:06.678681",
     "status": "completed"
    },
    "tags": []
   },
   "outputs": [
    {
     "data": {
      "text/plain": [
       "id                          0\n",
       "Age                         0\n",
       "BusinessTravel              0\n",
       "DailyRate                   0\n",
       "Department                  0\n",
       "DistanceFromHome            0\n",
       "Education                   0\n",
       "EducationField              0\n",
       "EmployeeCount               0\n",
       "EnvironmentSatisfaction     0\n",
       "Gender                      0\n",
       "HourlyRate                  0\n",
       "JobInvolvement              0\n",
       "JobLevel                    0\n",
       "JobRole                     0\n",
       "JobSatisfaction             0\n",
       "MaritalStatus               0\n",
       "MonthlyIncome               0\n",
       "MonthlyRate                 0\n",
       "NumCompaniesWorked          0\n",
       "Over18                      0\n",
       "OverTime                    0\n",
       "PercentSalaryHike           0\n",
       "PerformanceRating           0\n",
       "RelationshipSatisfaction    0\n",
       "StandardHours               0\n",
       "StockOptionLevel            0\n",
       "TotalWorkingYears           0\n",
       "TrainingTimesLastYear       0\n",
       "WorkLifeBalance             0\n",
       "YearsAtCompany              0\n",
       "YearsInCurrentRole          0\n",
       "YearsSinceLastPromotion     0\n",
       "YearsWithCurrManager        0\n",
       "Attrition                   0\n",
       "dtype: int64"
      ]
     },
     "execution_count": 5,
     "metadata": {},
     "output_type": "execute_result"
    }
   ],
   "source": [
    "train.isna().sum()"
   ]
  },
  {
   "cell_type": "code",
   "execution_count": 6,
   "id": "d6e159c7",
   "metadata": {
    "execution": {
     "iopub.execute_input": "2023-06-20T15:39:06.719941Z",
     "iopub.status.busy": "2023-06-20T15:39:06.719285Z",
     "iopub.status.idle": "2023-06-20T15:39:06.808771Z",
     "shell.execute_reply": "2023-06-20T15:39:06.807847Z"
    },
    "papermill": {
     "duration": 0.101673,
     "end_time": "2023-06-20T15:39:06.811138",
     "exception": false,
     "start_time": "2023-06-20T15:39:06.709465",
     "status": "completed"
    },
    "tags": []
   },
   "outputs": [
    {
     "data": {
      "text/html": [
       "<div>\n",
       "<style scoped>\n",
       "    .dataframe tbody tr th:only-of-type {\n",
       "        vertical-align: middle;\n",
       "    }\n",
       "\n",
       "    .dataframe tbody tr th {\n",
       "        vertical-align: top;\n",
       "    }\n",
       "\n",
       "    .dataframe thead th {\n",
       "        text-align: right;\n",
       "    }\n",
       "</style>\n",
       "<table border=\"1\" class=\"dataframe\">\n",
       "  <thead>\n",
       "    <tr style=\"text-align: right;\">\n",
       "      <th></th>\n",
       "      <th>id</th>\n",
       "      <th>Age</th>\n",
       "      <th>DailyRate</th>\n",
       "      <th>DistanceFromHome</th>\n",
       "      <th>Education</th>\n",
       "      <th>EmployeeCount</th>\n",
       "      <th>EnvironmentSatisfaction</th>\n",
       "      <th>HourlyRate</th>\n",
       "      <th>JobInvolvement</th>\n",
       "      <th>JobLevel</th>\n",
       "      <th>...</th>\n",
       "      <th>StandardHours</th>\n",
       "      <th>StockOptionLevel</th>\n",
       "      <th>TotalWorkingYears</th>\n",
       "      <th>TrainingTimesLastYear</th>\n",
       "      <th>WorkLifeBalance</th>\n",
       "      <th>YearsAtCompany</th>\n",
       "      <th>YearsInCurrentRole</th>\n",
       "      <th>YearsSinceLastPromotion</th>\n",
       "      <th>YearsWithCurrManager</th>\n",
       "      <th>Attrition</th>\n",
       "    </tr>\n",
       "  </thead>\n",
       "  <tbody>\n",
       "    <tr>\n",
       "      <th>count</th>\n",
       "      <td>1677.000000</td>\n",
       "      <td>1677.000000</td>\n",
       "      <td>1677.000000</td>\n",
       "      <td>1677.000000</td>\n",
       "      <td>1677.000000</td>\n",
       "      <td>1677.0</td>\n",
       "      <td>1677.000000</td>\n",
       "      <td>1677.000000</td>\n",
       "      <td>1677.000000</td>\n",
       "      <td>1677.000000</td>\n",
       "      <td>...</td>\n",
       "      <td>1677.0</td>\n",
       "      <td>1677.000000</td>\n",
       "      <td>1677.000000</td>\n",
       "      <td>1677.000000</td>\n",
       "      <td>1677.000000</td>\n",
       "      <td>1677.000000</td>\n",
       "      <td>1677.000000</td>\n",
       "      <td>1677.000000</td>\n",
       "      <td>1677.000000</td>\n",
       "      <td>1677.000000</td>\n",
       "    </tr>\n",
       "    <tr>\n",
       "      <th>mean</th>\n",
       "      <td>838.000000</td>\n",
       "      <td>36.036971</td>\n",
       "      <td>892.749553</td>\n",
       "      <td>8.683959</td>\n",
       "      <td>2.937984</td>\n",
       "      <td>1.0</td>\n",
       "      <td>2.757901</td>\n",
       "      <td>67.798450</td>\n",
       "      <td>2.782349</td>\n",
       "      <td>1.998807</td>\n",
       "      <td>...</td>\n",
       "      <td>80.0</td>\n",
       "      <td>0.721527</td>\n",
       "      <td>10.709600</td>\n",
       "      <td>2.732856</td>\n",
       "      <td>2.769827</td>\n",
       "      <td>6.806798</td>\n",
       "      <td>4.144305</td>\n",
       "      <td>1.978533</td>\n",
       "      <td>4.186643</td>\n",
       "      <td>0.119261</td>\n",
       "    </tr>\n",
       "    <tr>\n",
       "      <th>std</th>\n",
       "      <td>484.252517</td>\n",
       "      <td>8.507112</td>\n",
       "      <td>374.496259</td>\n",
       "      <td>7.826143</td>\n",
       "      <td>1.039078</td>\n",
       "      <td>0.0</td>\n",
       "      <td>1.086835</td>\n",
       "      <td>19.435928</td>\n",
       "      <td>0.650664</td>\n",
       "      <td>1.083065</td>\n",
       "      <td>...</td>\n",
       "      <td>0.0</td>\n",
       "      <td>0.771259</td>\n",
       "      <td>7.255135</td>\n",
       "      <td>1.145271</td>\n",
       "      <td>0.647721</td>\n",
       "      <td>5.883282</td>\n",
       "      <td>3.583398</td>\n",
       "      <td>3.045716</td>\n",
       "      <td>3.576189</td>\n",
       "      <td>0.324192</td>\n",
       "    </tr>\n",
       "    <tr>\n",
       "      <th>min</th>\n",
       "      <td>0.000000</td>\n",
       "      <td>18.000000</td>\n",
       "      <td>107.000000</td>\n",
       "      <td>1.000000</td>\n",
       "      <td>1.000000</td>\n",
       "      <td>1.0</td>\n",
       "      <td>1.000000</td>\n",
       "      <td>30.000000</td>\n",
       "      <td>1.000000</td>\n",
       "      <td>1.000000</td>\n",
       "      <td>...</td>\n",
       "      <td>80.0</td>\n",
       "      <td>0.000000</td>\n",
       "      <td>0.000000</td>\n",
       "      <td>0.000000</td>\n",
       "      <td>1.000000</td>\n",
       "      <td>0.000000</td>\n",
       "      <td>0.000000</td>\n",
       "      <td>0.000000</td>\n",
       "      <td>0.000000</td>\n",
       "      <td>0.000000</td>\n",
       "    </tr>\n",
       "    <tr>\n",
       "      <th>25%</th>\n",
       "      <td>419.000000</td>\n",
       "      <td>30.000000</td>\n",
       "      <td>589.000000</td>\n",
       "      <td>2.000000</td>\n",
       "      <td>2.000000</td>\n",
       "      <td>1.0</td>\n",
       "      <td>2.000000</td>\n",
       "      <td>51.000000</td>\n",
       "      <td>2.000000</td>\n",
       "      <td>1.000000</td>\n",
       "      <td>...</td>\n",
       "      <td>80.0</td>\n",
       "      <td>0.000000</td>\n",
       "      <td>6.000000</td>\n",
       "      <td>2.000000</td>\n",
       "      <td>2.000000</td>\n",
       "      <td>3.000000</td>\n",
       "      <td>2.000000</td>\n",
       "      <td>0.000000</td>\n",
       "      <td>2.000000</td>\n",
       "      <td>0.000000</td>\n",
       "    </tr>\n",
       "    <tr>\n",
       "      <th>50%</th>\n",
       "      <td>838.000000</td>\n",
       "      <td>35.000000</td>\n",
       "      <td>890.000000</td>\n",
       "      <td>7.000000</td>\n",
       "      <td>3.000000</td>\n",
       "      <td>1.0</td>\n",
       "      <td>3.000000</td>\n",
       "      <td>69.000000</td>\n",
       "      <td>3.000000</td>\n",
       "      <td>2.000000</td>\n",
       "      <td>...</td>\n",
       "      <td>80.0</td>\n",
       "      <td>1.000000</td>\n",
       "      <td>9.000000</td>\n",
       "      <td>3.000000</td>\n",
       "      <td>3.000000</td>\n",
       "      <td>5.000000</td>\n",
       "      <td>3.000000</td>\n",
       "      <td>1.000000</td>\n",
       "      <td>3.000000</td>\n",
       "      <td>0.000000</td>\n",
       "    </tr>\n",
       "    <tr>\n",
       "      <th>75%</th>\n",
       "      <td>1257.000000</td>\n",
       "      <td>41.000000</td>\n",
       "      <td>1223.000000</td>\n",
       "      <td>12.000000</td>\n",
       "      <td>4.000000</td>\n",
       "      <td>1.0</td>\n",
       "      <td>4.000000</td>\n",
       "      <td>84.000000</td>\n",
       "      <td>3.000000</td>\n",
       "      <td>2.000000</td>\n",
       "      <td>...</td>\n",
       "      <td>80.0</td>\n",
       "      <td>1.000000</td>\n",
       "      <td>14.000000</td>\n",
       "      <td>3.000000</td>\n",
       "      <td>3.000000</td>\n",
       "      <td>9.000000</td>\n",
       "      <td>7.000000</td>\n",
       "      <td>2.000000</td>\n",
       "      <td>7.000000</td>\n",
       "      <td>0.000000</td>\n",
       "    </tr>\n",
       "    <tr>\n",
       "      <th>max</th>\n",
       "      <td>1676.000000</td>\n",
       "      <td>60.000000</td>\n",
       "      <td>3921.000000</td>\n",
       "      <td>29.000000</td>\n",
       "      <td>15.000000</td>\n",
       "      <td>1.0</td>\n",
       "      <td>4.000000</td>\n",
       "      <td>100.000000</td>\n",
       "      <td>4.000000</td>\n",
       "      <td>7.000000</td>\n",
       "      <td>...</td>\n",
       "      <td>80.0</td>\n",
       "      <td>3.000000</td>\n",
       "      <td>41.000000</td>\n",
       "      <td>6.000000</td>\n",
       "      <td>4.000000</td>\n",
       "      <td>41.000000</td>\n",
       "      <td>18.000000</td>\n",
       "      <td>15.000000</td>\n",
       "      <td>17.000000</td>\n",
       "      <td>1.000000</td>\n",
       "    </tr>\n",
       "  </tbody>\n",
       "</table>\n",
       "<p>8 rows × 27 columns</p>\n",
       "</div>"
      ],
      "text/plain": [
       "                id          Age    DailyRate  DistanceFromHome    Education  \\\n",
       "count  1677.000000  1677.000000  1677.000000       1677.000000  1677.000000   \n",
       "mean    838.000000    36.036971   892.749553          8.683959     2.937984   \n",
       "std     484.252517     8.507112   374.496259          7.826143     1.039078   \n",
       "min       0.000000    18.000000   107.000000          1.000000     1.000000   \n",
       "25%     419.000000    30.000000   589.000000          2.000000     2.000000   \n",
       "50%     838.000000    35.000000   890.000000          7.000000     3.000000   \n",
       "75%    1257.000000    41.000000  1223.000000         12.000000     4.000000   \n",
       "max    1676.000000    60.000000  3921.000000         29.000000    15.000000   \n",
       "\n",
       "       EmployeeCount  EnvironmentSatisfaction   HourlyRate  JobInvolvement  \\\n",
       "count         1677.0              1677.000000  1677.000000     1677.000000   \n",
       "mean             1.0                 2.757901    67.798450        2.782349   \n",
       "std              0.0                 1.086835    19.435928        0.650664   \n",
       "min              1.0                 1.000000    30.000000        1.000000   \n",
       "25%              1.0                 2.000000    51.000000        2.000000   \n",
       "50%              1.0                 3.000000    69.000000        3.000000   \n",
       "75%              1.0                 4.000000    84.000000        3.000000   \n",
       "max              1.0                 4.000000   100.000000        4.000000   \n",
       "\n",
       "          JobLevel  ...  StandardHours  StockOptionLevel  TotalWorkingYears  \\\n",
       "count  1677.000000  ...         1677.0       1677.000000        1677.000000   \n",
       "mean      1.998807  ...           80.0          0.721527          10.709600   \n",
       "std       1.083065  ...            0.0          0.771259           7.255135   \n",
       "min       1.000000  ...           80.0          0.000000           0.000000   \n",
       "25%       1.000000  ...           80.0          0.000000           6.000000   \n",
       "50%       2.000000  ...           80.0          1.000000           9.000000   \n",
       "75%       2.000000  ...           80.0          1.000000          14.000000   \n",
       "max       7.000000  ...           80.0          3.000000          41.000000   \n",
       "\n",
       "       TrainingTimesLastYear  WorkLifeBalance  YearsAtCompany  \\\n",
       "count            1677.000000      1677.000000     1677.000000   \n",
       "mean                2.732856         2.769827        6.806798   \n",
       "std                 1.145271         0.647721        5.883282   \n",
       "min                 0.000000         1.000000        0.000000   \n",
       "25%                 2.000000         2.000000        3.000000   \n",
       "50%                 3.000000         3.000000        5.000000   \n",
       "75%                 3.000000         3.000000        9.000000   \n",
       "max                 6.000000         4.000000       41.000000   \n",
       "\n",
       "       YearsInCurrentRole  YearsSinceLastPromotion  YearsWithCurrManager  \\\n",
       "count         1677.000000              1677.000000           1677.000000   \n",
       "mean             4.144305                 1.978533              4.186643   \n",
       "std              3.583398                 3.045716              3.576189   \n",
       "min              0.000000                 0.000000              0.000000   \n",
       "25%              2.000000                 0.000000              2.000000   \n",
       "50%              3.000000                 1.000000              3.000000   \n",
       "75%              7.000000                 2.000000              7.000000   \n",
       "max             18.000000                15.000000             17.000000   \n",
       "\n",
       "         Attrition  \n",
       "count  1677.000000  \n",
       "mean      0.119261  \n",
       "std       0.324192  \n",
       "min       0.000000  \n",
       "25%       0.000000  \n",
       "50%       0.000000  \n",
       "75%       0.000000  \n",
       "max       1.000000  \n",
       "\n",
       "[8 rows x 27 columns]"
      ]
     },
     "execution_count": 6,
     "metadata": {},
     "output_type": "execute_result"
    }
   ],
   "source": [
    "train.describe()"
   ]
  },
  {
   "cell_type": "code",
   "execution_count": 7,
   "id": "5c46d17a",
   "metadata": {
    "execution": {
     "iopub.execute_input": "2023-06-20T15:39:06.831219Z",
     "iopub.status.busy": "2023-06-20T15:39:06.830881Z",
     "iopub.status.idle": "2023-06-20T15:39:07.142928Z",
     "shell.execute_reply": "2023-06-20T15:39:07.142155Z"
    },
    "papermill": {
     "duration": 0.324318,
     "end_time": "2023-06-20T15:39:07.145059",
     "exception": false,
     "start_time": "2023-06-20T15:39:06.820741",
     "status": "completed"
    },
    "tags": []
   },
   "outputs": [
    {
     "name": "stdout",
     "output_type": "stream",
     "text": [
      "0    1477\n",
      "1     200\n",
      "Name: Attrition, dtype: int64\n"
     ]
    },
    {
     "data": {
      "text/plain": [
       "Text(0, 0.5, 'Contagem')"
      ]
     },
     "execution_count": 7,
     "metadata": {},
     "output_type": "execute_result"
    },
    {
     "data": {
      "image/png": "[encoded data removed]",
      "text/plain": [
       "<Figure size 640x480 with 1 Axes>"
      ]
     },
     "metadata": {},
     "output_type": "display_data"
    }
   ],
   "source": [
    "#As classes não estão balanceadas\n",
    "counts = (train['Attrition'].value_counts())\n",
    "print(counts)\n",
    "\n",
    "plt.bar(counts.index, counts.values)\n",
    "plt.xlabel(\"Valor Attrition\")\n",
    "plt.ylabel(\"Contagem\")"
   ]
  },
  {
   "cell_type": "code",
   "execution_count": 8,
   "id": "01381524",
   "metadata": {
    "execution": {
     "iopub.execute_input": "2023-06-20T15:39:07.166712Z",
     "iopub.status.busy": "2023-06-20T15:39:07.166008Z",
     "iopub.status.idle": "2023-06-20T15:39:07.513476Z",
     "shell.execute_reply": "2023-06-20T15:39:07.512319Z"
    },
    "papermill": {
     "duration": 0.360606,
     "end_time": "2023-06-20T15:39:07.515767",
     "exception": false,
     "start_time": "2023-06-20T15:39:07.155161",
     "status": "completed"
    },
    "tags": []
   },
   "outputs": [
    {
     "name": "stdout",
     "output_type": "stream",
     "text": [
      "Random under-sampling:\n",
      "0    200\n",
      "1    200\n",
      "Name: Attrition, dtype: int64\n"
     ]
    },
    {
     "data": {
      "image/png": "[encoded data removed]",
      "text/plain": [
       "<Figure size 640x480 with 1 Axes>"
      ]
     },
     "metadata": {},
     "output_type": "display_data"
    }
   ],
   "source": [
    "#Balanceando as classes por undersampling\n",
    "count_class_0, count_class_1 = train.Attrition.value_counts()\n",
    "df_class_0 = train[train['Attrition'] == 0]\n",
    "df_class_1 = train[train['Attrition'] == 1]\n",
    "df_class_0_under = df_class_0.sample(count_class_1)\n",
    "train_undersampling = pd.concat([df_class_0_under, df_class_1], axis=0)\n",
    "print('Random under-sampling:')\n",
    "print(train_undersampling.Attrition.value_counts())\n",
    "train_undersampling.Attrition.value_counts().plot(kind='bar', title='Count (target)',color = ['#1F77B4', '#FF7F0E']);"
   ]
  },
  {
   "cell_type": "code",
   "execution_count": 9,
   "id": "b0d0f12e",
   "metadata": {
    "execution": {
     "iopub.execute_input": "2023-06-20T15:39:07.538226Z",
     "iopub.status.busy": "2023-06-20T15:39:07.537843Z",
     "iopub.status.idle": "2023-06-20T15:39:07.546289Z",
     "shell.execute_reply": "2023-06-20T15:39:07.545316Z"
    },
    "papermill": {
     "duration": 0.022208,
     "end_time": "2023-06-20T15:39:07.548431",
     "exception": false,
     "start_time": "2023-06-20T15:39:07.526223",
     "status": "completed"
    },
    "tags": []
   },
   "outputs": [
    {
     "data": {
      "text/plain": [
       "id                           int64\n",
       "Age                          int64\n",
       "BusinessTravel              object\n",
       "DailyRate                    int64\n",
       "Department                  object\n",
       "DistanceFromHome             int64\n",
       "Education                    int64\n",
       "EducationField              object\n",
       "EmployeeCount                int64\n",
       "EnvironmentSatisfaction      int64\n",
       "Gender                      object\n",
       "HourlyRate                   int64\n",
       "JobInvolvement               int64\n",
       "JobLevel                     int64\n",
       "JobRole                     object\n",
       "JobSatisfaction              int64\n",
       "MaritalStatus               object\n",
       "MonthlyIncome                int64\n",
       "MonthlyRate                  int64\n",
       "NumCompaniesWorked           int64\n",
       "Over18                      object\n",
       "OverTime                    object\n",
       "PercentSalaryHike            int64\n",
       "PerformanceRating            int64\n",
       "RelationshipSatisfaction     int64\n",
       "StandardHours                int64\n",
       "StockOptionLevel             int64\n",
       "TotalWorkingYears            int64\n",
       "TrainingTimesLastYear        int64\n",
       "WorkLifeBalance              int64\n",
       "YearsAtCompany               int64\n",
       "YearsInCurrentRole           int64\n",
       "YearsSinceLastPromotion      int64\n",
       "YearsWithCurrManager         int64\n",
       "Attrition                    int64\n",
       "dtype: object"
      ]
     },
     "execution_count": 9,
     "metadata": {},
     "output_type": "execute_result"
    }
   ],
   "source": [
    "#Existem alguns colunas com dados não numéricos, do tipo 'object'\n",
    "train.dtypes"
   ]
  },
  {
   "cell_type": "code",
   "execution_count": 10,
   "id": "843218b1",
   "metadata": {
    "execution": {
     "iopub.execute_input": "2023-06-20T15:39:07.569437Z",
     "iopub.status.busy": "2023-06-20T15:39:07.569151Z",
     "iopub.status.idle": "2023-06-20T15:39:07.589718Z",
     "shell.execute_reply": "2023-06-20T15:39:07.588931Z"
    },
    "papermill": {
     "duration": 0.033529,
     "end_time": "2023-06-20T15:39:07.591791",
     "exception": false,
     "start_time": "2023-06-20T15:39:07.558262",
     "status": "completed"
    },
    "tags": []
   },
   "outputs": [],
   "source": [
    "#Transformando os valores categóricos em colunas binárias\n",
    "one_hot_encoded_train_undersampling = pd.get_dummies(train_undersampling)\n",
    "one_hot_encoded_test = pd.get_dummies(test)\n"
   ]
  },
  {
   "cell_type": "code",
   "execution_count": 11,
   "id": "b116b06f",
   "metadata": {
    "execution": {
     "iopub.execute_input": "2023-06-20T15:39:07.613498Z",
     "iopub.status.busy": "2023-06-20T15:39:07.613088Z",
     "iopub.status.idle": "2023-06-20T15:39:07.622364Z",
     "shell.execute_reply": "2023-06-20T15:39:07.621188Z"
    },
    "papermill": {
     "duration": 0.022735,
     "end_time": "2023-06-20T15:39:07.624562",
     "exception": false,
     "start_time": "2023-06-20T15:39:07.601827",
     "status": "completed"
    },
    "tags": []
   },
   "outputs": [
    {
     "data": {
      "text/plain": [
       "id                                   int64\n",
       "Age                                  int64\n",
       "DailyRate                            int64\n",
       "DistanceFromHome                     int64\n",
       "Education                            int64\n",
       "EmployeeCount                        int64\n",
       "EnvironmentSatisfaction              int64\n",
       "HourlyRate                           int64\n",
       "JobInvolvement                       int64\n",
       "JobLevel                             int64\n",
       "JobSatisfaction                      int64\n",
       "MonthlyIncome                        int64\n",
       "MonthlyRate                          int64\n",
       "NumCompaniesWorked                   int64\n",
       "PercentSalaryHike                    int64\n",
       "PerformanceRating                    int64\n",
       "RelationshipSatisfaction             int64\n",
       "StandardHours                        int64\n",
       "StockOptionLevel                     int64\n",
       "TotalWorkingYears                    int64\n",
       "TrainingTimesLastYear                int64\n",
       "WorkLifeBalance                      int64\n",
       "YearsAtCompany                       int64\n",
       "YearsInCurrentRole                   int64\n",
       "YearsSinceLastPromotion              int64\n",
       "YearsWithCurrManager                 int64\n",
       "Attrition                            int64\n",
       "BusinessTravel_Non-Travel            uint8\n",
       "BusinessTravel_Travel_Frequently     uint8\n",
       "BusinessTravel_Travel_Rarely         uint8\n",
       "Department_Human Resources           uint8\n",
       "Department_Research & Development    uint8\n",
       "Department_Sales                     uint8\n",
       "EducationField_Human Resources       uint8\n",
       "EducationField_Life Sciences         uint8\n",
       "EducationField_Marketing             uint8\n",
       "EducationField_Medical               uint8\n",
       "EducationField_Other                 uint8\n",
       "EducationField_Technical Degree      uint8\n",
       "Gender_Female                        uint8\n",
       "Gender_Male                          uint8\n",
       "JobRole_Healthcare Representative    uint8\n",
       "JobRole_Human Resources              uint8\n",
       "JobRole_Laboratory Technician        uint8\n",
       "JobRole_Manager                      uint8\n",
       "JobRole_Manufacturing Director       uint8\n",
       "JobRole_Research Director            uint8\n",
       "JobRole_Research Scientist           uint8\n",
       "JobRole_Sales Executive              uint8\n",
       "JobRole_Sales Representative         uint8\n",
       "MaritalStatus_Divorced               uint8\n",
       "MaritalStatus_Married                uint8\n",
       "MaritalStatus_Single                 uint8\n",
       "Over18_Y                             uint8\n",
       "OverTime_No                          uint8\n",
       "OverTime_Yes                         uint8\n",
       "dtype: object"
      ]
     },
     "execution_count": 11,
     "metadata": {},
     "output_type": "execute_result"
    }
   ],
   "source": [
    "#Verificando se funcionou para o treino\n",
    "one_hot_encoded_train_undersampling.dtypes"
   ]
  },
  {
   "cell_type": "code",
   "execution_count": 12,
   "id": "383f044a",
   "metadata": {
    "execution": {
     "iopub.execute_input": "2023-06-20T15:39:07.648743Z",
     "iopub.status.busy": "2023-06-20T15:39:07.647643Z",
     "iopub.status.idle": "2023-06-20T15:39:07.656126Z",
     "shell.execute_reply": "2023-06-20T15:39:07.655303Z"
    },
    "papermill": {
     "duration": 0.023035,
     "end_time": "2023-06-20T15:39:07.658234",
     "exception": false,
     "start_time": "2023-06-20T15:39:07.635199",
     "status": "completed"
    },
    "tags": []
   },
   "outputs": [
    {
     "data": {
      "text/plain": [
       "id                                   int64\n",
       "Age                                  int64\n",
       "DailyRate                            int64\n",
       "DistanceFromHome                     int64\n",
       "Education                            int64\n",
       "EmployeeCount                        int64\n",
       "EnvironmentSatisfaction              int64\n",
       "HourlyRate                           int64\n",
       "JobInvolvement                       int64\n",
       "JobLevel                             int64\n",
       "JobSatisfaction                      int64\n",
       "MonthlyIncome                        int64\n",
       "MonthlyRate                          int64\n",
       "NumCompaniesWorked                   int64\n",
       "PercentSalaryHike                    int64\n",
       "PerformanceRating                    int64\n",
       "RelationshipSatisfaction             int64\n",
       "StandardHours                        int64\n",
       "StockOptionLevel                     int64\n",
       "TotalWorkingYears                    int64\n",
       "TrainingTimesLastYear                int64\n",
       "WorkLifeBalance                      int64\n",
       "YearsAtCompany                       int64\n",
       "YearsInCurrentRole                   int64\n",
       "YearsSinceLastPromotion              int64\n",
       "YearsWithCurrManager                 int64\n",
       "BusinessTravel_Non-Travel            uint8\n",
       "BusinessTravel_Travel_Frequently     uint8\n",
       "BusinessTravel_Travel_Rarely         uint8\n",
       "Department_Human Resources           uint8\n",
       "Department_Research & Development    uint8\n",
       "Department_Sales                     uint8\n",
       "EducationField_Human Resources       uint8\n",
       "EducationField_Life Sciences         uint8\n",
       "EducationField_Marketing             uint8\n",
       "EducationField_Medical               uint8\n",
       "EducationField_Other                 uint8\n",
       "EducationField_Technical Degree      uint8\n",
       "Gender_Female                        uint8\n",
       "Gender_Male                          uint8\n",
       "JobRole_Healthcare Representative    uint8\n",
       "JobRole_Human Resources              uint8\n",
       "JobRole_Laboratory Technician        uint8\n",
       "JobRole_Manager                      uint8\n",
       "JobRole_Manufacturing Director       uint8\n",
       "JobRole_Research Director            uint8\n",
       "JobRole_Research Scientist           uint8\n",
       "JobRole_Sales Executive              uint8\n",
       "JobRole_Sales Representative         uint8\n",
       "MaritalStatus_Divorced               uint8\n",
       "MaritalStatus_Married                uint8\n",
       "MaritalStatus_Single                 uint8\n",
       "Over18_Y                             uint8\n",
       "OverTime_No                          uint8\n",
       "OverTime_Yes                         uint8\n",
       "dtype: object"
      ]
     },
     "execution_count": 12,
     "metadata": {},
     "output_type": "execute_result"
    }
   ],
   "source": [
    "#Verificando se funcionou para o teste\n",
    "one_hot_encoded_test.dtypes"
   ]
  },
  {
   "cell_type": "markdown",
   "id": "88893227",
   "metadata": {
    "papermill": {
     "duration": 0.010734,
     "end_time": "2023-06-20T15:39:07.679970",
     "exception": false,
     "start_time": "2023-06-20T15:39:07.669236",
     "status": "completed"
    },
    "tags": []
   },
   "source": [
    "# Preparação para os modelos"
   ]
  },
  {
   "cell_type": "code",
   "execution_count": 13,
   "id": "614019c3",
   "metadata": {
    "execution": {
     "iopub.execute_input": "2023-06-20T15:39:07.704003Z",
     "iopub.status.busy": "2023-06-20T15:39:07.703632Z",
     "iopub.status.idle": "2023-06-20T15:39:07.710997Z",
     "shell.execute_reply": "2023-06-20T15:39:07.710185Z"
    },
    "papermill": {
     "duration": 0.021922,
     "end_time": "2023-06-20T15:39:07.713258",
     "exception": false,
     "start_time": "2023-06-20T15:39:07.691336",
     "status": "completed"
    },
    "tags": []
   },
   "outputs": [],
   "source": [
    "X = one_hot_encoded_train_undersampling.drop(['Attrition', 'id'], axis =1)\n",
    "y = one_hot_encoded_train_undersampling.Attrition\n",
    "\n",
    "atributos_test = one_hot_encoded_test.drop(['id'], axis=1)"
   ]
  },
  {
   "cell_type": "code",
   "execution_count": 14,
   "id": "0d471401",
   "metadata": {
    "execution": {
     "iopub.execute_input": "2023-06-20T15:39:07.737896Z",
     "iopub.status.busy": "2023-06-20T15:39:07.737294Z",
     "iopub.status.idle": "2023-06-20T15:39:07.743785Z",
     "shell.execute_reply": "2023-06-20T15:39:07.742884Z"
    },
    "papermill": {
     "duration": 0.021457,
     "end_time": "2023-06-20T15:39:07.746001",
     "exception": false,
     "start_time": "2023-06-20T15:39:07.724544",
     "status": "completed"
    },
    "tags": []
   },
   "outputs": [],
   "source": [
    "X = X.values\n",
    "y = y.values\n",
    "atributos_test = atributos_test.values"
   ]
  },
  {
   "cell_type": "code",
   "execution_count": 15,
   "id": "5630526f",
   "metadata": {
    "execution": {
     "iopub.execute_input": "2023-06-20T15:39:07.770796Z",
     "iopub.status.busy": "2023-06-20T15:39:07.769903Z",
     "iopub.status.idle": "2023-06-20T15:39:07.776650Z",
     "shell.execute_reply": "2023-06-20T15:39:07.775686Z"
    },
    "papermill": {
     "duration": 0.02094,
     "end_time": "2023-06-20T15:39:07.778910",
     "exception": false,
     "start_time": "2023-06-20T15:39:07.757970",
     "status": "completed"
    },
    "tags": []
   },
   "outputs": [],
   "source": [
    "scaler = StandardScaler()\n",
    "scaler.fit(X)\n",
    "abtributos = scaler.transform(X)\n",
    "atributos_test = scaler.transform(atributos_test)"
   ]
  },
  {
   "cell_type": "code",
   "execution_count": 16,
   "id": "41d11dfe",
   "metadata": {
    "execution": {
     "iopub.execute_input": "2023-06-20T15:39:07.801330Z",
     "iopub.status.busy": "2023-06-20T15:39:07.801031Z",
     "iopub.status.idle": "2023-06-20T15:39:07.806322Z",
     "shell.execute_reply": "2023-06-20T15:39:07.805396Z"
    },
    "papermill": {
     "duration": 0.018489,
     "end_time": "2023-06-20T15:39:07.808336",
     "exception": false,
     "start_time": "2023-06-20T15:39:07.789847",
     "status": "completed"
    },
    "tags": []
   },
   "outputs": [],
   "source": [
    "X_train, X_test, y_train, y_test =   train_test_split(X, y, random_state = 52)\n"
   ]
  },
  {
   "cell_type": "code",
   "execution_count": 17,
   "id": "8e8fb475",
   "metadata": {
    "execution": {
     "iopub.execute_input": "2023-06-20T15:39:07.830432Z",
     "iopub.status.busy": "2023-06-20T15:39:07.830180Z",
     "iopub.status.idle": "2023-06-20T15:39:07.835383Z",
     "shell.execute_reply": "2023-06-20T15:39:07.834284Z"
    },
    "papermill": {
     "duration": 0.019292,
     "end_time": "2023-06-20T15:39:07.837838",
     "exception": false,
     "start_time": "2023-06-20T15:39:07.818546",
     "status": "completed"
    },
    "tags": []
   },
   "outputs": [
    {
     "name": "stdout",
     "output_type": "stream",
     "text": [
      "dados de treino (300, 54) (300,)\n",
      "dados de teste (100, 54) (100,)\n"
     ]
    }
   ],
   "source": [
    "print(\"dados de treino\", X_train.shape, y_train.shape)\n",
    "print(\"dados de teste\", X_test.shape, y_test.shape)"
   ]
  },
  {
   "cell_type": "markdown",
   "id": "b50fa3be",
   "metadata": {
    "papermill": {
     "duration": 0.010283,
     "end_time": "2023-06-20T15:39:07.858514",
     "exception": false,
     "start_time": "2023-06-20T15:39:07.848231",
     "status": "completed"
    },
    "tags": []
   },
   "source": [
    "# Modelos"
   ]
  },
  {
   "cell_type": "markdown",
   "id": "2af56d23",
   "metadata": {
    "papermill": {
     "duration": 0.010094,
     "end_time": "2023-06-20T15:39:07.879110",
     "exception": false,
     "start_time": "2023-06-20T15:39:07.869016",
     "status": "completed"
    },
    "tags": []
   },
   "source": [
    "*Modelo Bayesiano*"
   ]
  },
  {
   "cell_type": "code",
   "execution_count": 18,
   "id": "18cdf431",
   "metadata": {
    "execution": {
     "iopub.execute_input": "2023-06-20T15:39:07.902656Z",
     "iopub.status.busy": "2023-06-20T15:39:07.902303Z",
     "iopub.status.idle": "2023-06-20T15:39:07.922259Z",
     "shell.execute_reply": "2023-06-20T15:39:07.920874Z"
    },
    "papermill": {
     "duration": 0.035114,
     "end_time": "2023-06-20T15:39:07.924484",
     "exception": false,
     "start_time": "2023-06-20T15:39:07.889370",
     "status": "completed"
    },
    "tags": []
   },
   "outputs": [
    {
     "name": "stdout",
     "output_type": "stream",
     "text": [
      "Acurácia treino: 0.74\n",
      "Acurácia teste:  0.75\n",
      "Classificador Report\n",
      "              precision    recall  f1-score   support\n",
      "\n",
      "           0       0.83      0.65      0.73        52\n",
      "           1       0.69      0.85      0.77        48\n",
      "\n",
      "    accuracy                           0.75       100\n",
      "   macro avg       0.76      0.75      0.75       100\n",
      "weighted avg       0.76      0.75      0.75       100\n",
      "\n"
     ]
    }
   ],
   "source": [
    "modelo_1 = GaussianNB()\n",
    "modelo_1.fit(X_train, y_train.ravel())\n",
    "nb_predict_train = modelo_1.predict(X_train)\n",
    "modelo_1.fit(X_train, y_train.ravel())\n",
    "ac_nb_train = sklearn.metrics.accuracy_score(y_train, nb_predict_train)\n",
    "print(\"Acurácia treino:\", ac_nb_train)\n",
    "nb_predict_test = modelo_1.predict(X_test)\n",
    "ac_nb_test = sklearn.metrics.accuracy_score(y_test, nb_predict_test)\n",
    "print(\"Acurácia teste: \", ac_nb_test)\n",
    "print(\"Classificador Report\")\n",
    "print(sklearn.metrics.classification_report(y_test, nb_predict_test))"
   ]
  },
  {
   "cell_type": "markdown",
   "id": "8cf0a6bb",
   "metadata": {
    "papermill": {
     "duration": 0.010591,
     "end_time": "2023-06-20T15:39:07.946075",
     "exception": false,
     "start_time": "2023-06-20T15:39:07.935484",
     "status": "completed"
    },
    "tags": []
   },
   "source": [
    "*Random Forest*"
   ]
  },
  {
   "cell_type": "code",
   "execution_count": 19,
   "id": "2fe0cb2d",
   "metadata": {
    "execution": {
     "iopub.execute_input": "2023-06-20T15:39:07.969352Z",
     "iopub.status.busy": "2023-06-20T15:39:07.969007Z",
     "iopub.status.idle": "2023-06-20T15:39:08.498280Z",
     "shell.execute_reply": "2023-06-20T15:39:08.496705Z"
    },
    "papermill": {
     "duration": 0.544015,
     "end_time": "2023-06-20T15:39:08.500892",
     "exception": false,
     "start_time": "2023-06-20T15:39:07.956877",
     "status": "completed"
    },
    "tags": []
   },
   "outputs": [
    {
     "name": "stdout",
     "output_type": "stream",
     "text": [
      "Acurácia treino: 1.0\n",
      "Acurácia teste: 0.7\n",
      "Classification Report\n",
      "              precision    recall  f1-score   support\n",
      "\n",
      "           1       0.68      0.71      0.69        48\n",
      "           0       0.72      0.69      0.71        52\n",
      "\n",
      "    accuracy                           0.70       100\n",
      "   macro avg       0.70      0.70      0.70       100\n",
      "weighted avg       0.70      0.70      0.70       100\n",
      "\n"
     ]
    }
   ],
   "source": [
    "modelo_2 = RandomForestClassifier(random_state = 123)\n",
    "modelo_2.fit(X_train, y_train)\n",
    "modelo_2 = RandomForestClassifier(random_state = 123)\n",
    "modelo_2.fit(X_train, y_train.ravel())\n",
    "rf_predict_train = modelo_2.predict(X_train)\n",
    "ac_rf_train = sklearn.metrics.accuracy_score(y_train, rf_predict_train)\n",
    "print(\"Acurácia treino:\", ac_rf_train)\n",
    "rf_predict_test = modelo_2.predict(X_test)\n",
    "ac_rf_test = sklearn.metrics.accuracy_score(y_test, rf_predict_test)\n",
    "print(\"Acurácia teste:\", ac_rf_test)\n",
    "print(\"Classification Report\")\n",
    "print(sklearn.metrics.classification_report\\\n",
    "      (y_test, rf_predict_test, labels = [1, 0]))"
   ]
  },
  {
   "cell_type": "markdown",
   "id": "3bb46983",
   "metadata": {
    "papermill": {
     "duration": 0.01058,
     "end_time": "2023-06-20T15:39:08.522926",
     "exception": false,
     "start_time": "2023-06-20T15:39:08.512346",
     "status": "completed"
    },
    "tags": []
   },
   "source": [
    "# Conclusão\n",
    "\n",
    "Random Forest é o melhor modelo"
   ]
  },
  {
   "cell_type": "markdown",
   "id": "007af62a",
   "metadata": {
    "papermill": {
     "duration": 0.010841,
     "end_time": "2023-06-20T15:39:08.544905",
     "exception": false,
     "start_time": "2023-06-20T15:39:08.534064",
     "status": "completed"
    },
    "tags": []
   },
   "source": [
    "# Submissão"
   ]
  },
  {
   "cell_type": "code",
   "execution_count": 20,
   "id": "536869d4",
   "metadata": {
    "execution": {
     "iopub.execute_input": "2023-06-20T15:39:08.567893Z",
     "iopub.status.busy": "2023-06-20T15:39:08.567531Z",
     "iopub.status.idle": "2023-06-20T15:39:08.603514Z",
     "shell.execute_reply": "2023-06-20T15:39:08.602708Z"
    },
    "papermill": {
     "duration": 0.050165,
     "end_time": "2023-06-20T15:39:08.605865",
     "exception": false,
     "start_time": "2023-06-20T15:39:08.555700",
     "status": "completed"
    },
    "tags": []
   },
   "outputs": [],
   "source": [
    "test_predictions = modelo_2.predict_proba(atributos_test)[:,1]\n",
    "submit = pd.read_csv('/kaggle/input/playground-series-s3e3/sample_submission.csv')\n",
    "submit.Attrition = test_predictions\n",
    "submit.to_csv('submissionb2.csv', index=False)"
   ]
  },
  {
   "cell_type": "markdown",
   "id": "03593fb4",
   "metadata": {
    "papermill": {
     "duration": 0.010857,
     "end_time": "2023-06-20T15:39:08.627769",
     "exception": false,
     "start_time": "2023-06-20T15:39:08.616912",
     "status": "completed"
    },
    "tags": []
   },
   "source": [
    "# Nota Kaggle\n",
    "\n",
    "**Score privado:** 0.76\n",
    "\n",
    "**Score público:** 0.75"
   ]
  }
 ],
 "metadata": {
  "kernelspec": {
   "display_name": "Python 3",
   "language": "python",
   "name": "python3"
  },
  "language_info": {
   "codemirror_mode": {
    "name": "ipython",
    "version": 3
   },
   "file_extension": ".py",
   "mimetype": "text/x-python",
   "name": "python",
   "nbconvert_exporter": "python",
   "pygments_lexer": "ipython3",
   "version": "3.10.10"
  },
  "papermill": {
   "default_parameters": {},
   "duration": 15.309198,
   "end_time": "2023-06-20T15:39:09.559927",
   "environment_variables": {},
   "exception": null,
   "input_path": "__notebook__.ipynb",
   "output_path": "__notebook__.ipynb",
   "parameters": {},
   "start_time": "2023-06-20T15:38:54.250729",
   "version": "2.4.0"
  }
 },
 "nbformat": 4,
 "nbformat_minor": 5
}
