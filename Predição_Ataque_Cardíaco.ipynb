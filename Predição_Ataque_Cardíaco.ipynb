{
  "nbformat": 4,
  "nbformat_minor": 0,
  "metadata": {
    "colab": {
      "provenance": [],
      "include_colab_link": true
    },
    "kernelspec": {
      "name": "python3",
      "display_name": "Python 3"
    },
    "language_info": {
      "name": "python"
    }
  },
  "cells": [
    {
      "cell_type": "markdown",
      "metadata": {
        "id": "view-in-github",
        "colab_type": "text"
      },
      "source": [
        "<a href=\"https://colab.research.google.com/github/Frusan1/Ciencia_Dados/blob/main/Predi%C3%A7%C3%A3o_Ataque_Card%C3%ADaco.ipynb\" target=\"_parent\"><img src=\"https://colab.research.google.com/assets/colab-badge.svg\" alt=\"Open In Colab\"/></a>"
      ]
    },
    {
      "cell_type": "markdown",
      "source": [
        "# **Importação de bibliotecas**\n"
      ],
      "metadata": {
        "id": "0jbBsuQzlV2j"
      }
    },
    {
      "cell_type": "code",
      "execution_count": null,
      "metadata": {
        "id": "4NVGYLj5jljA"
      },
      "outputs": [],
      "source": [
        "import pandas as pd\n",
        "import numpy as np\n",
        "\n",
        "import matplotlib.pyplot as plt\n",
        "from matplotlib.colors import ListedColormap\n",
        "\n",
        "from sklearn.metrics import accuracy_score\n",
        "from sklearn.metrics import precision_score\n",
        "from sklearn.model_selection import train_test_split\n",
        "\n",
        "from sklearn.tree import DecisionTreeClassifier\n",
        "from sklearn.svm import SVC\n",
        "from sklearn.neighbors import KNeighborsClassifier\n",
        "from sklearn.naive_bayes import GaussianNB\n",
        "from sklearn.ensemble import RandomForestClassifier"
      ]
    },
    {
      "cell_type": "markdown",
      "source": [
        "# **Importação de Dados**"
      ],
      "metadata": {
        "id": "4N5UCeyJmRUM"
      }
    },
    {
      "cell_type": "code",
      "source": [
        "base_saude = pd.read_csv(\"saude.csv\", sep=';')\n",
        "base_saude.head(10)"
      ],
      "metadata": {
        "id": "bIy5rJvXmYZ3",
        "colab": {
          "base_uri": "https://localhost:8080/",
          "height": 363
        },
        "outputId": "c0f405ec-bf28-41a0-9662-88abc80b8eca"
      },
      "execution_count": null,
      "outputs": [
        {
          "output_type": "execute_result",
          "data": {
            "text/plain": [
              "   idade  sexo  tipoDorPeito  pressaoRepouso  colesterol  acucarSangue  \\\n",
              "0     63     1             3             145         233             1   \n",
              "1     37     1             2             130         250             0   \n",
              "2     41     0             1             130         204             0   \n",
              "3     56     1             1             120         236             0   \n",
              "4     57     0             0             120         354             0   \n",
              "5     57     1             0             140         192             0   \n",
              "6     56     0             1             140         294             0   \n",
              "7     44     1             1             120         263             0   \n",
              "8     52     1             2             172         199             1   \n",
              "9     57     1             2             150         168             0   \n",
              "\n",
              "   eletrocardiograma  freqCardiacaMax  angina  ataqueCardiaco  \n",
              "0                  0              150       0               1  \n",
              "1                  1              187       0               1  \n",
              "2                  0              172       0               1  \n",
              "3                  1              178       0               1  \n",
              "4                  1              163       1               1  \n",
              "5                  1              148       0               1  \n",
              "6                  0              153       0               1  \n",
              "7                  1              173       0               1  \n",
              "8                  1              162       0               1  \n",
              "9                  1              174       0               1  "
            ],
            "text/html": [
              "\n",
              "  <div id=\"df-a7a7e08a-7ac5-4c79-807c-8c4c956e4f47\">\n",
              "    <div class=\"colab-df-container\">\n",
              "      <div>\n",
              "<style scoped>\n",
              "    .dataframe tbody tr th:only-of-type {\n",
              "        vertical-align: middle;\n",
              "    }\n",
              "\n",
              "    .dataframe tbody tr th {\n",
              "        vertical-align: top;\n",
              "    }\n",
              "\n",
              "    .dataframe thead th {\n",
              "        text-align: right;\n",
              "    }\n",
              "</style>\n",
              "<table border=\"1\" class=\"dataframe\">\n",
              "  <thead>\n",
              "    <tr style=\"text-align: right;\">\n",
              "      <th></th>\n",
              "      <th>idade</th>\n",
              "      <th>sexo</th>\n",
              "      <th>tipoDorPeito</th>\n",
              "      <th>pressaoRepouso</th>\n",
              "      <th>colesterol</th>\n",
              "      <th>acucarSangue</th>\n",
              "      <th>eletrocardiograma</th>\n",
              "      <th>freqCardiacaMax</th>\n",
              "      <th>angina</th>\n",
              "      <th>ataqueCardiaco</th>\n",
              "    </tr>\n",
              "  </thead>\n",
              "  <tbody>\n",
              "    <tr>\n",
              "      <th>0</th>\n",
              "      <td>63</td>\n",
              "      <td>1</td>\n",
              "      <td>3</td>\n",
              "      <td>145</td>\n",
              "      <td>233</td>\n",
              "      <td>1</td>\n",
              "      <td>0</td>\n",
              "      <td>150</td>\n",
              "      <td>0</td>\n",
              "      <td>1</td>\n",
              "    </tr>\n",
              "    <tr>\n",
              "      <th>1</th>\n",
              "      <td>37</td>\n",
              "      <td>1</td>\n",
              "      <td>2</td>\n",
              "      <td>130</td>\n",
              "      <td>250</td>\n",
              "      <td>0</td>\n",
              "      <td>1</td>\n",
              "      <td>187</td>\n",
              "      <td>0</td>\n",
              "      <td>1</td>\n",
              "    </tr>\n",
              "    <tr>\n",
              "      <th>2</th>\n",
              "      <td>41</td>\n",
              "      <td>0</td>\n",
              "      <td>1</td>\n",
              "      <td>130</td>\n",
              "      <td>204</td>\n",
              "      <td>0</td>\n",
              "      <td>0</td>\n",
              "      <td>172</td>\n",
              "      <td>0</td>\n",
              "      <td>1</td>\n",
              "    </tr>\n",
              "    <tr>\n",
              "      <th>3</th>\n",
              "      <td>56</td>\n",
              "      <td>1</td>\n",
              "      <td>1</td>\n",
              "      <td>120</td>\n",
              "      <td>236</td>\n",
              "      <td>0</td>\n",
              "      <td>1</td>\n",
              "      <td>178</td>\n",
              "      <td>0</td>\n",
              "      <td>1</td>\n",
              "    </tr>\n",
              "    <tr>\n",
              "      <th>4</th>\n",
              "      <td>57</td>\n",
              "      <td>0</td>\n",
              "      <td>0</td>\n",
              "      <td>120</td>\n",
              "      <td>354</td>\n",
              "      <td>0</td>\n",
              "      <td>1</td>\n",
              "      <td>163</td>\n",
              "      <td>1</td>\n",
              "      <td>1</td>\n",
              "    </tr>\n",
              "    <tr>\n",
              "      <th>5</th>\n",
              "      <td>57</td>\n",
              "      <td>1</td>\n",
              "      <td>0</td>\n",
              "      <td>140</td>\n",
              "      <td>192</td>\n",
              "      <td>0</td>\n",
              "      <td>1</td>\n",
              "      <td>148</td>\n",
              "      <td>0</td>\n",
              "      <td>1</td>\n",
              "    </tr>\n",
              "    <tr>\n",
              "      <th>6</th>\n",
              "      <td>56</td>\n",
              "      <td>0</td>\n",
              "      <td>1</td>\n",
              "      <td>140</td>\n",
              "      <td>294</td>\n",
              "      <td>0</td>\n",
              "      <td>0</td>\n",
              "      <td>153</td>\n",
              "      <td>0</td>\n",
              "      <td>1</td>\n",
              "    </tr>\n",
              "    <tr>\n",
              "      <th>7</th>\n",
              "      <td>44</td>\n",
              "      <td>1</td>\n",
              "      <td>1</td>\n",
              "      <td>120</td>\n",
              "      <td>263</td>\n",
              "      <td>0</td>\n",
              "      <td>1</td>\n",
              "      <td>173</td>\n",
              "      <td>0</td>\n",
              "      <td>1</td>\n",
              "    </tr>\n",
              "    <tr>\n",
              "      <th>8</th>\n",
              "      <td>52</td>\n",
              "      <td>1</td>\n",
              "      <td>2</td>\n",
              "      <td>172</td>\n",
              "      <td>199</td>\n",
              "      <td>1</td>\n",
              "      <td>1</td>\n",
              "      <td>162</td>\n",
              "      <td>0</td>\n",
              "      <td>1</td>\n",
              "    </tr>\n",
              "    <tr>\n",
              "      <th>9</th>\n",
              "      <td>57</td>\n",
              "      <td>1</td>\n",
              "      <td>2</td>\n",
              "      <td>150</td>\n",
              "      <td>168</td>\n",
              "      <td>0</td>\n",
              "      <td>1</td>\n",
              "      <td>174</td>\n",
              "      <td>0</td>\n",
              "      <td>1</td>\n",
              "    </tr>\n",
              "  </tbody>\n",
              "</table>\n",
              "</div>\n",
              "      <button class=\"colab-df-convert\" onclick=\"convertToInteractive('df-a7a7e08a-7ac5-4c79-807c-8c4c956e4f47')\"\n",
              "              title=\"Convert this dataframe to an interactive table.\"\n",
              "              style=\"display:none;\">\n",
              "        \n",
              "  <svg xmlns=\"http://www.w3.org/2000/svg\" height=\"24px\"viewBox=\"0 0 24 24\"\n",
              "       width=\"24px\">\n",
              "    <path d=\"M0 0h24v24H0V0z\" fill=\"none\"/>\n",
              "    <path d=\"M18.56 5.44l.94 2.06.94-2.06 2.06-.94-2.06-.94-.94-2.06-.94 2.06-2.06.94zm-11 1L8.5 8.5l.94-2.06 2.06-.94-2.06-.94L8.5 2.5l-.94 2.06-2.06.94zm10 10l.94 2.06.94-2.06 2.06-.94-2.06-.94-.94-2.06-.94 2.06-2.06.94z\"/><path d=\"M17.41 7.96l-1.37-1.37c-.4-.4-.92-.59-1.43-.59-.52 0-1.04.2-1.43.59L10.3 9.45l-7.72 7.72c-.78.78-.78 2.05 0 2.83L4 21.41c.39.39.9.59 1.41.59.51 0 1.02-.2 1.41-.59l7.78-7.78 2.81-2.81c.8-.78.8-2.07 0-2.86zM5.41 20L4 18.59l7.72-7.72 1.47 1.35L5.41 20z\"/>\n",
              "  </svg>\n",
              "      </button>\n",
              "      \n",
              "  <style>\n",
              "    .colab-df-container {\n",
              "      display:flex;\n",
              "      flex-wrap:wrap;\n",
              "      gap: 12px;\n",
              "    }\n",
              "\n",
              "    .colab-df-convert {\n",
              "      background-color: #E8F0FE;\n",
              "      border: none;\n",
              "      border-radius: 50%;\n",
              "      cursor: pointer;\n",
              "      display: none;\n",
              "      fill: #1967D2;\n",
              "      height: 32px;\n",
              "      padding: 0 0 0 0;\n",
              "      width: 32px;\n",
              "    }\n",
              "\n",
              "    .colab-df-convert:hover {\n",
              "      background-color: #E2EBFA;\n",
              "      box-shadow: 0px 1px 2px rgba(60, 64, 67, 0.3), 0px 1px 3px 1px rgba(60, 64, 67, 0.15);\n",
              "      fill: #174EA6;\n",
              "    }\n",
              "\n",
              "    [theme=dark] .colab-df-convert {\n",
              "      background-color: #3B4455;\n",
              "      fill: #D2E3FC;\n",
              "    }\n",
              "\n",
              "    [theme=dark] .colab-df-convert:hover {\n",
              "      background-color: #434B5C;\n",
              "      box-shadow: 0px 1px 3px 1px rgba(0, 0, 0, 0.15);\n",
              "      filter: drop-shadow(0px 1px 2px rgba(0, 0, 0, 0.3));\n",
              "      fill: #FFFFFF;\n",
              "    }\n",
              "  </style>\n",
              "\n",
              "      <script>\n",
              "        const buttonEl =\n",
              "          document.querySelector('#df-a7a7e08a-7ac5-4c79-807c-8c4c956e4f47 button.colab-df-convert');\n",
              "        buttonEl.style.display =\n",
              "          google.colab.kernel.accessAllowed ? 'block' : 'none';\n",
              "\n",
              "        async function convertToInteractive(key) {\n",
              "          const element = document.querySelector('#df-a7a7e08a-7ac5-4c79-807c-8c4c956e4f47');\n",
              "          const dataTable =\n",
              "            await google.colab.kernel.invokeFunction('convertToInteractive',\n",
              "                                                     [key], {});\n",
              "          if (!dataTable) return;\n",
              "\n",
              "          const docLinkHtml = 'Like what you see? Visit the ' +\n",
              "            '<a target=\"_blank\" href=https://colab.research.google.com/notebooks/data_table.ipynb>data table notebook</a>'\n",
              "            + ' to learn more about interactive tables.';\n",
              "          element.innerHTML = '';\n",
              "          dataTable['output_type'] = 'display_data';\n",
              "          await google.colab.output.renderOutput(dataTable, element);\n",
              "          const docLink = document.createElement('div');\n",
              "          docLink.innerHTML = docLinkHtml;\n",
              "          element.appendChild(docLink);\n",
              "        }\n",
              "      </script>\n",
              "    </div>\n",
              "  </div>\n",
              "  "
            ]
          },
          "metadata": {},
          "execution_count": 4
        }
      ]
    },
    {
      "cell_type": "markdown",
      "source": [
        "# **Seção 1: Caracterização dos Dados**\n",
        "\n"
      ],
      "metadata": {
        "id": "Ws9wxfXTnX31"
      }
    },
    {
      "cell_type": "code",
      "source": [
        "# Distribuição da variável resposta\n",
        "num_categorias = base_saude['ataqueCardiaco'].value_counts()\n",
        "print(num_categorias)"
      ],
      "metadata": {
        "id": "-ZC7kc0gnnU6",
        "colab": {
          "base_uri": "https://localhost:8080/"
        },
        "outputId": "d8f850d7-55d5-4943-a268-31d99d486962"
      },
      "execution_count": null,
      "outputs": [
        {
          "output_type": "stream",
          "name": "stdout",
          "text": [
            "1    165\n",
            "0    138\n",
            "Name: ataqueCardiaco, dtype: int64\n"
          ]
        }
      ]
    },
    {
      "cell_type": "code",
      "source": [
        "X = base_saude[['idade', 'tipoDorPeito', 'pressaoRepouso', 'colesterol', 'acucarSangue', 'eletrocardiograma', 'freqCardiacaMax']] #indique as variáveis explicativas\n",
        "Y = base_saude['ataqueCardiaco'] #indique a variável resposta"
      ],
      "metadata": {
        "id": "tihb2gJR5MGG"
      },
      "execution_count": null,
      "outputs": []
    },
    {
      "cell_type": "code",
      "source": [
        "acuracia_modelo1 = []\n",
        "acuracia_modelo2 = []\n",
        "acuracia_modelo3 = []\n",
        "\n",
        "precisao_modelo1 = []\n",
        "precisao_modelo2 = []\n",
        "precisao_modelo3 = []"
      ],
      "metadata": {
        "id": "kqOU0HsnLG8H"
      },
      "execution_count": null,
      "outputs": []
    },
    {
      "cell_type": "code",
      "source": [
        "np.random.seed(14)\n",
        "\n",
        "# Altere os parâmetros abaixo para configuar o ambiente adequadamente\n",
        "iteracoes = 50\n",
        "train_size = 0.7\n",
        "\n",
        "for i in range(iteracoes):\n",
        "\n",
        "    #PARTICIONAMENTO DE DADOS:\n",
        "\n",
        "    X_treino, X_teste, Y_treino, Y_teste = train_test_split(X, Y, train_size = train_size)\n",
        "\n",
        "    #TREINAMENTO DE MODELOS:\n",
        "\n",
        "    # Modelo 1 =  SVM\n",
        "    model1 = SVC(kernel = 'linear')\n",
        "    model1.fit(X_treino, Y_treino)\n",
        "\n",
        "    # Modelo 2 =  Random Forest\n",
        "    model2 = RandomForestClassifier()\n",
        "    model2.fit(X_treino, Y_treino)\n",
        "\n",
        "    # Modelo 3 =  KNN\n",
        "    model3 = KNeighborsClassifier()\n",
        "    model3.fit(X_treino, Y_treino)\n",
        "\n",
        "    #TESTE/AVALIAÇÃO DE MODELOS:\n",
        "\n",
        "    predictions1 = model1.predict(X_teste)\n",
        "    acuracia_modelo1.append(accuracy_score(Y_teste, predictions1))\n",
        "    precisao_modelo1.append(precision_score(Y_teste, predictions1))\n",
        "\n",
        "    predictions2 = model2.predict(X_teste)\n",
        "    acuracia_modelo2.append(accuracy_score(Y_teste, predictions2))\n",
        "    precisao_modelo2.append(precision_score(Y_teste, predictions2))\n",
        "\n",
        "    predictions3 = model3.predict(X_teste)\n",
        "    acuracia_modelo3.append(accuracy_score(Y_teste, predictions3))\n",
        "    precisao_modelo3.append(precision_score(Y_teste, predictions3))\n",
        "\n"
      ],
      "metadata": {
        "id": "cumcubiN1KT9"
      },
      "execution_count": null,
      "outputs": []
    },
    {
      "cell_type": "markdown",
      "source": [
        "# **Seção 2: Avaliação de Modelos**"
      ],
      "metadata": {
        "id": "NUGnb5j18BjS"
      }
    },
    {
      "cell_type": "code",
      "source": [
        "print('Média acurácia modelo 1:')\n",
        "print(np.round(np.mean(acuracia_modelo1),2))\n",
        "print('Média acurácia modelo 2:')\n",
        "print(np.round(np.mean(acuracia_modelo2),2))\n",
        "print('Média acurácia modelo 3:')\n",
        "print(np.round(np.mean(acuracia_modelo3),2))"
      ],
      "metadata": {
        "id": "rQmshPEA8MXT",
        "colab": {
          "base_uri": "https://localhost:8080/"
        },
        "outputId": "5a53b025-5e72-476f-bbe9-735fa8148817"
      },
      "execution_count": null,
      "outputs": [
        {
          "output_type": "stream",
          "name": "stdout",
          "text": [
            "Média acurácia modelo 1:\n",
            "0.74\n",
            "Média acurácia modelo 2:\n",
            "0.71\n",
            "Média acurácia modelo 3:\n",
            "0.63\n"
          ]
        }
      ]
    },
    {
      "cell_type": "code",
      "source": [
        "print('Média precisão modelo 1:')\n",
        "print(np.round(np.mean(precisao_modelo1),2))\n",
        "print('Média precisão modelo 2:')\n",
        "print(np.round(np.mean(precisao_modelo2),2))\n",
        "print('Média precisão modelo 3:')\n",
        "print(np.round(np.mean(precisao_modelo3),2))"
      ],
      "metadata": {
        "id": "PA_h4ykV_2XZ",
        "colab": {
          "base_uri": "https://localhost:8080/"
        },
        "outputId": "4b722b63-c1ae-4f83-e87e-f2fd0b5664ba"
      },
      "execution_count": null,
      "outputs": [
        {
          "output_type": "stream",
          "name": "stdout",
          "text": [
            "Média precisão modelo 1:\n",
            "0.75\n",
            "Média precisão modelo 2:\n",
            "0.73\n",
            "Média precisão modelo 3:\n",
            "0.65\n"
          ]
        }
      ]
    },
    {
      "cell_type": "markdown",
      "source": [
        "**Acurácia:**"
      ],
      "metadata": {
        "id": "SO3JA_C0SbEv"
      }
    },
    {
      "cell_type": "code",
      "source": [
        "dados_resultados_acuracia =[acuracia_modelo1, acuracia_modelo2, acuracia_modelo3]\n",
        "\n",
        "plt.boxplot(dados_resultados_acuracia)\n",
        "plt.title(\"Boxplot da amostra de acerto dos modelos\")\n",
        "plt.show()"
      ],
      "metadata": {
        "id": "9iWxwVoeBw2M",
        "colab": {
          "base_uri": "https://localhost:8080/",
          "height": 452
        },
        "outputId": "416e52f1-d468-4b5c-c325-7b23c68b0b52"
      },
      "execution_count": null,
      "outputs": [
        {
          "output_type": "display_data",
          "data": {
            "text/plain": [
              "<Figure size 640x480 with 1 Axes>"
            ],
            "image/png": "[encoded data removed]"
          },
          "metadata": {}
        }
      ]
    },
    {
      "cell_type": "markdown",
      "source": [
        "**Precisão:**"
      ],
      "metadata": {
        "id": "NGVX8AxbSeD6"
      }
    },
    {
      "cell_type": "code",
      "source": [
        "dados_resultados_precisao =[precisao_modelo1, precisao_modelo2, precisao_modelo3]\n",
        "\n",
        "plt.boxplot(dados_resultados_precisao)\n",
        "plt.title(\"Boxplot da amostra de precisão dos modelos para a classe 1\")\n",
        "plt.show()"
      ],
      "metadata": {
        "id": "AZ4Zr3_lB-YD",
        "colab": {
          "base_uri": "https://localhost:8080/",
          "height": 452
        },
        "outputId": "6dfa0838-f2e1-4c7a-e256-bce7ddd914b3"
      },
      "execution_count": null,
      "outputs": [
        {
          "output_type": "display_data",
          "data": {
            "text/plain": [
              "<Figure size 640x480 with 1 Axes>"
            ],
            "image/png": "[encoded data removed]"
          },
          "metadata": {}
        }
      ]
    },
    {
      "cell_type": "markdown",
      "source": [
        "# **Seção 3: Predição do melhor modelo**"
      ],
      "metadata": {
        "id": "m1A4AIc6CSX4"
      }
    },
    {
      "cell_type": "markdown",
      "source": [
        "**Coleta de dados do paciente**"
      ],
      "metadata": {
        "id": "_WaUv6vZ08sX"
      }
    },
    {
      "cell_type": "code",
      "source": [
        "idade = int(input('Informe a idade do paciente: '))\n",
        "dor = int(input('Informe a categoria de dor no peito do paciente: '))\n",
        "pressao = int(input('Informe a pressão arterial observada do paciente: '))\n",
        "colesterol = int(input('Informe a taxa de colesterol observada: '))\n",
        "eletro = int(input('Informe o resultado do exame eletrocardiograma do paciente: '))\n",
        "frequencia = int(input('Indiue a frequência cardíaca máxima observada do paciente: '))\n",
        "acucar = int(input('Foi identificado açucar no sangue do paciente? '))\n",
        "\n"
      ],
      "metadata": {
        "id": "bg0ExM-aDLOY",
        "colab": {
          "base_uri": "https://localhost:8080/"
        },
        "outputId": "7c9f03fa-4389-4e1e-aca3-ab14e5ffe548"
      },
      "execution_count": null,
      "outputs": [
        {
          "name": "stdout",
          "output_type": "stream",
          "text": [
            "Informe a idade do paciente: 51\n",
            "Informe a categoria de dor no peito do paciente: 2\n",
            "Informe a pressão arterial observada do paciente: 110\n",
            "Informe a taxa de colesterol observada: 175\n",
            "Informe o resultafo do exame eletrocardiograma do paciente: 1\n",
            "Indiue a frequência cardíaca máxima observada do paciente: 123\n",
            "Foi identificado açucar no sangue do paciente? 1\n"
          ]
        }
      ]
    },
    {
      "cell_type": "markdown",
      "source": [
        "**Resposta do sistema**"
      ],
      "metadata": {
        "id": "Aifci1061DBQ"
      }
    },
    {
      "cell_type": "code",
      "source": [
        "novo_paciente = [[idade, dor, pressao, colesterol,  acucar, eletro, frequencia]]\n",
        "variaveis = ['idade', 'tipoDorPeito', 'pressaoRepouso', 'colesterol',\t'acucarSangue',\t'eletrocardiograma',\t'freqCardiacaMax']\n",
        "novo_paciente =  pd.DataFrame(novo_paciente, columns = variaveis)\n",
        "resposta = model1.predict(novo_paciente)    #Troque  o X pelo melhor número do melhor modelo (1, 2 ou 3)\n",
        "\n",
        "for i in range(len(resposta)):\n",
        "  if resposta[i] == 1.0 :\n",
        "    print('Muita chance de sofrer ataque cardíaco')\n",
        "  else:\n",
        "    print('Pouca chance de sofrer ataque cardíaco')"
      ],
      "metadata": {
        "id": "_DVCAf8Z03Se",
        "colab": {
          "base_uri": "https://localhost:8080/"
        },
        "outputId": "d14380db-bd59-471b-c08f-25e6f8fe6e4e"
      },
      "execution_count": null,
      "outputs": [
        {
          "output_type": "stream",
          "name": "stdout",
          "text": [
            "Muita chance de sofrer ataque cardíaco\n"
          ]
        }
      ]
    }
  ]
}