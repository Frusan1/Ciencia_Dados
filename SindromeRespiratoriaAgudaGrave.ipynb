{
  "nbformat": 4,
  "nbformat_minor": 0,
  "metadata": {
    "colab": {
      "provenance": [],
      "gpuType": "T4",
      "collapsed_sections": [
        "g68jU3rMKkbr",
        "XtT-h05tMJHh"
      ],
      "mount_file_id": "13x07A9z9VTWpnKkLvFc3FFs3MPJkMIWI",
      "authorship_tag": "ABX9TyN97n066muP6QsJhsDAgK9+",
      "include_colab_link": true
    },
    "kernelspec": {
      "name": "python3",
      "display_name": "Python 3"
    },
    "language_info": {
      "name": "python"
    }
  },
  "cells": [
    {
      "cell_type": "markdown",
      "metadata": {
        "id": "view-in-github",
        "colab_type": "text"
      },
      "source": [
        "<a href=\"https://colab.research.google.com/github/Frusan1/Ciencia_Dados/blob/main/SindromeRespiratoriaAgudaGrave.ipynb\" target=\"_parent\"><img src=\"https://colab.research.google.com/assets/colab-badge.svg\" alt=\"Open In Colab\"/></a>"
      ]
    },
    {
      "cell_type": "markdown",
      "source": [
        "# Problema"
      ],
      "metadata": {
        "id": "csQ7i66pkjGG"
      }
    },
    {
      "cell_type": "markdown",
      "source": [
        "<p align=\"justify\">\n",
        "A Sindróme Respiratória Aguda Grave (SRAG) abrange casos de síndrome gripal que evoluem com compromentimento da função respiratória, que na maioria dos casos, leva à hospitalização. Pode ser causadas por vírus (Influenza A e B, SARS-COV-2), bactérias, fungos etc.\n",
        "\n",
        "O indivío com SRAG pode apresentar, desconforto respiratório, pressão persistente no tórax ou saturação de O2 menor que 95%, cianoso dos lábios, rosto.\n",
        "\n",
        "**Objetivo:** verificar se é possível prever a evolução do paciente através da presença/ausência de fatores de risco.\n",
        "</p>\n"
      ],
      "metadata": {
        "id": "7DevviTKkqT5"
      }
    },
    {
      "cell_type": "markdown",
      "source": [
        "# Importando biblioteca e dados\n"
      ],
      "metadata": {
        "id": "g68jU3rMKkbr"
      }
    },
    {
      "cell_type": "code",
      "execution_count": null,
      "metadata": {
        "id": "qESE3OGeLks7"
      },
      "outputs": [],
      "source": [
        "import pandas as pd\n",
        "import numpy as np\n",
        "import matplotlib.pyplot as plt\n",
        "import seaborn as sns\n",
        "\n",
        "#Importanto técnicas de avaliação de modelos\n",
        "from sklearn.metrics import accuracy_score as accuracy_score #métrica acurácia\n",
        "from sklearn.metrics import precision_score #métrica precisão\n",
        "from sklearn.metrics import classification_report #várias métricas\n",
        "from sklearn.model_selection import train_test_split #técnica de partição em treino e teste\n",
        "\n",
        "#Importando as técnicas de aprendizagem\n",
        "from sklearn.neural_network import MLPClassifier #técnica rede neural\n",
        "from sklearn.ensemble import RandomForestClassifier #técnica random forest\n",
        "from sklearn.linear_model import LogisticRegression #técninca de regressão logístic\n",
        "from sklearn.model_selection import GridSearchCV #técnica para configurar parâmetros do modelo"
      ]
    },
    {
      "cell_type": "code",
      "source": [
        "dados =pd.read_csv(\"/content/drive/MyDrive/Datasets/INFLUD23-05-06-2023.csv\", sep= \";\", low_memory=False)"
      ],
      "metadata": {
        "id": "Pb7jbXC7LvXF"
      },
      "execution_count": null,
      "outputs": []
    },
    {
      "cell_type": "markdown",
      "source": [
        "# Dicionário de dados"
      ],
      "metadata": {
        "id": "RDFPJRLWnXf-"
      }
    },
    {
      "cell_type": "markdown",
      "source": [
        "**Dicionário oficial dataset:** https://s3.sa-east-1.amazonaws.com/ckan.saude.gov.br/SRAG/pdfs/Dicionario_de_Dados_SRAG_Hospitalizado_19.09.2022.pdf\n",
        "\n",
        "\n",
        "**Dicionário adaptado para o problema**:\n",
        "\n",
        "NU_IDADE_N: Idade paciente\n",
        "\n",
        "CS_GESTANT: Paciente é gestante? 1- Sim 0- Não\n",
        "\n",
        "CARDIOPATI: Paciente possui Doença Cardiovascular Crônica? 1- Sim 0- Não\n",
        "\n",
        "HEMATOLOGI: Paciente possui Doença Hematológica Crônica? 1- Sim 0- Não\n",
        "\n",
        "HEPATICA: Paciente possui Doença Hepática Crônica? 1- Sim 0- Não\n",
        "\n",
        "DIABETES: Paciente possui Diabetes mellitus? 1- Sim 0- Não\n",
        "\n",
        "NEUROLOGIC: Paciente possui Doença Neurológica? 1- Sim 0- Não\n",
        "\n",
        "PNEUMOPATI: Paciente possui outra pneumopatia crônica? 1- Sim 0- Não\n",
        "\n",
        "IMUNODEPRE: Paciente possui Imunodeficiência? 1- Sim 0- Não\n",
        "\n",
        "RENAL: Paciente possui Doença Renal Crônica? 1- Sim 0- Não\n",
        "\n",
        "OBESIDADE: Paciente possui obesidade? 1- Sim 0- Não\n",
        "\n",
        "VACINA_COV: O paciente recebeu vacina para COVID-19? 1- Sim 0- Não\n",
        "\n",
        "CLASSI_FIN: Diagnóstico final do caso. 5- SRAG por Covid-9\n",
        "\n",
        "EVOLUCAO: Evolução do caso: 1- Cura 0- Óbito"
      ],
      "metadata": {
        "id": "Ab7yS4Flnb2J"
      }
    },
    {
      "cell_type": "markdown",
      "source": [
        "# Visualização e seleção de dados"
      ],
      "metadata": {
        "id": "XtT-h05tMJHh"
      }
    },
    {
      "cell_type": "code",
      "source": [
        "dados.head(10)"
      ],
      "metadata": {
        "id": "dYv-w1sfLyAz",
        "colab": {
          "base_uri": "https://localhost:8080/",
          "height": 959
        },
        "outputId": "3adad8b2-3d0e-4bd6-a0fd-351d27410bc2"
      },
      "execution_count": null,
      "outputs": [
        {
          "output_type": "execute_result",
          "data": {
            "text/plain": [
              "   DT_NOTIFIC  SEM_NOT  DT_SIN_PRI  SEM_PRI SG_UF_NOT          ID_REGIONA  \\\n",
              "0  05/01/2023        1  02/01/2023        1        MS          NRS JARDIM   \n",
              "1  04/01/2023        1  02/01/2023        1        MG      BELO HORIZONTE   \n",
              "2  10/01/2023        2  07/01/2023        1        MG         DIVINOPOLIS   \n",
              "3  12/01/2023        2  07/01/2023        1        SC       FLORIANOPOLIS   \n",
              "4  10/01/2023        2  01/01/2023        1        SP       GVE I CAPITAL   \n",
              "5  05/01/2023        1  03/01/2023        1        PE                 001   \n",
              "6  06/01/2023        1  04/01/2023        1        CE    1 CRES FORTALEZA   \n",
              "7  06/01/2023        1  01/01/2023        1        SP  GVE XXXIII TAUBATE   \n",
              "8  17/01/2023        3  02/01/2023        1        SP       GVE I CAPITAL   \n",
              "9  17/01/2023        3  16/01/2023        3        PI     1 GRS  PARNAIBA   \n",
              "\n",
              "   CO_REGIONA      ID_MUNICIP  CO_MUN_NOT  \\\n",
              "0      5546.0      BELA VISTA      500210   \n",
              "1      1449.0  BELO HORIZONTE      310620   \n",
              "2      1472.0     DIVINOPOLIS      312230   \n",
              "3      1476.0   FLORIANOPOLIS      420540   \n",
              "4      1331.0       SAO PAULO      355030   \n",
              "5      1497.0          RECIFE      261160   \n",
              "6      1519.0       FORTALEZA      230440   \n",
              "7      1352.0         TAUBATE      355410   \n",
              "8      1331.0       SAO PAULO      355030   \n",
              "9      1868.0        PARNAIBA      220770   \n",
              "\n",
              "                                    ID_UNIDADE  ...  LOTE_2_COV LOTE_REF  \\\n",
              "0                HOSPITAL SAO VICENTE DE PAULA  ...      210136   FF8842   \n",
              "1            HOSPITAL RISOLETA TOLENTINO NEVES  ...      210087  31025BD   \n",
              "2  UPA 24 HORAS PADRE ROBERTO CORDEIRO MARTINS  ...  216VCD200Z      NaN   \n",
              "3            HOSPITAL INFANTIL JOANA DE GUSMAO  ...         NaN      NaN   \n",
              "4                                 UPA PIRITUBA  ...         NaN      NaN   \n",
              "5                     HOSPITAL BARAO DE LUCENA  ...         NaN      NaN   \n",
              "6          HIAS HOSPITAL INFANTIL ALBERT SABIN  ...         NaN      NaN   \n",
              "7         HOSPITAL REGIONAL DO VALE DO PARAIBA  ...  215VCD166Z      NaN   \n",
              "8                          HOSPITAL DA CRIANCA  ...         NaN      NaN   \n",
              "9           HOSPITAL ESTADUAL DIRCEU ARCOVERDE  ...  217VCD241Z      NaN   \n",
              "\n",
              "  FNT_IN_COV   DOSE_2REF                                      FAB_COVRF2  \\\n",
              "0          2  30/04/2022             88 - COVID-19 JANSSEN - AD26.COV2.S   \n",
              "1          2  08/04/2022  85 - COVID-19 ASTRAZENECA/FIOCRUZ - COVISHIELD   \n",
              "2          2         NaN                                             NaN   \n",
              "3          2         NaN                                             NaN   \n",
              "4          1  20/10/2022  85 - COVID-19 ASTRAZENECA/FIOCRUZ - COVISHIELD   \n",
              "5          2         NaN                                             NaN   \n",
              "6          1         NaN                                             NaN   \n",
              "7          2         NaN                                             NaN   \n",
              "8          1         NaN                                             NaN   \n",
              "9          2         NaN                                             NaN   \n",
              "\n",
              "    LOTE_REF2  TRAT_COV  TIPO_TRAT  OUT_TRAT DT_TRT_COV  \n",
              "0     207H21A       2.0        NaN       NaN        NaN  \n",
              "1  21OVCD330Z       2.0        NaN       NaN        NaN  \n",
              "2         NaN       NaN        NaN       NaN        NaN  \n",
              "3         NaN       2.0        NaN       NaN        NaN  \n",
              "4  221VCD027Z       2.0        NaN       NaN        NaN  \n",
              "5         NaN       2.0        NaN       NaN        NaN  \n",
              "6         NaN       9.0        NaN       NaN        NaN  \n",
              "7         NaN       2.0        NaN       NaN        NaN  \n",
              "8         NaN       2.0        NaN       NaN        NaN  \n",
              "9         NaN       NaN        NaN       NaN        NaN  \n",
              "\n",
              "[10 rows x 173 columns]"
            ],
            "text/html": [
              "\n",
              "  <div id=\"df-b0707258-505f-4e3f-b7a8-b3ff88e4072b\">\n",
              "    <div class=\"colab-df-container\">\n",
              "      <div>\n",
              "<style scoped>\n",
              "    .dataframe tbody tr th:only-of-type {\n",
              "        vertical-align: middle;\n",
              "    }\n",
              "\n",
              "    .dataframe tbody tr th {\n",
              "        vertical-align: top;\n",
              "    }\n",
              "\n",
              "    .dataframe thead th {\n",
              "        text-align: right;\n",
              "    }\n",
              "</style>\n",
              "<table border=\"1\" class=\"dataframe\">\n",
              "  <thead>\n",
              "    <tr style=\"text-align: right;\">\n",
              "      <th></th>\n",
              "      <th>DT_NOTIFIC</th>\n",
              "      <th>SEM_NOT</th>\n",
              "      <th>DT_SIN_PRI</th>\n",
              "      <th>SEM_PRI</th>\n",
              "      <th>SG_UF_NOT</th>\n",
              "      <th>ID_REGIONA</th>\n",
              "      <th>CO_REGIONA</th>\n",
              "      <th>ID_MUNICIP</th>\n",
              "      <th>CO_MUN_NOT</th>\n",
              "      <th>ID_UNIDADE</th>\n",
              "      <th>...</th>\n",
              "      <th>LOTE_2_COV</th>\n",
              "      <th>LOTE_REF</th>\n",
              "      <th>FNT_IN_COV</th>\n",
              "      <th>DOSE_2REF</th>\n",
              "      <th>FAB_COVRF2</th>\n",
              "      <th>LOTE_REF2</th>\n",
              "      <th>TRAT_COV</th>\n",
              "      <th>TIPO_TRAT</th>\n",
              "      <th>OUT_TRAT</th>\n",
              "      <th>DT_TRT_COV</th>\n",
              "    </tr>\n",
              "  </thead>\n",
              "  <tbody>\n",
              "    <tr>\n",
              "      <th>0</th>\n",
              "      <td>05/01/2023</td>\n",
              "      <td>1</td>\n",
              "      <td>02/01/2023</td>\n",
              "      <td>1</td>\n",
              "      <td>MS</td>\n",
              "      <td>NRS JARDIM</td>\n",
              "      <td>5546.0</td>\n",
              "      <td>BELA VISTA</td>\n",
              "      <td>500210</td>\n",
              "      <td>HOSPITAL SAO VICENTE DE PAULA</td>\n",
              "      <td>...</td>\n",
              "      <td>210136</td>\n",
              "      <td>FF8842</td>\n",
              "      <td>2</td>\n",
              "      <td>30/04/2022</td>\n",
              "      <td>88 - COVID-19 JANSSEN - AD26.COV2.S</td>\n",
              "      <td>207H21A</td>\n",
              "      <td>2.0</td>\n",
              "      <td>NaN</td>\n",
              "      <td>NaN</td>\n",
              "      <td>NaN</td>\n",
              "    </tr>\n",
              "    <tr>\n",
              "      <th>1</th>\n",
              "      <td>04/01/2023</td>\n",
              "      <td>1</td>\n",
              "      <td>02/01/2023</td>\n",
              "      <td>1</td>\n",
              "      <td>MG</td>\n",
              "      <td>BELO HORIZONTE</td>\n",
              "      <td>1449.0</td>\n",
              "      <td>BELO HORIZONTE</td>\n",
              "      <td>310620</td>\n",
              "      <td>HOSPITAL RISOLETA TOLENTINO NEVES</td>\n",
              "      <td>...</td>\n",
              "      <td>210087</td>\n",
              "      <td>31025BD</td>\n",
              "      <td>2</td>\n",
              "      <td>08/04/2022</td>\n",
              "      <td>85 - COVID-19 ASTRAZENECA/FIOCRUZ - COVISHIELD</td>\n",
              "      <td>21OVCD330Z</td>\n",
              "      <td>2.0</td>\n",
              "      <td>NaN</td>\n",
              "      <td>NaN</td>\n",
              "      <td>NaN</td>\n",
              "    </tr>\n",
              "    <tr>\n",
              "      <th>2</th>\n",
              "      <td>10/01/2023</td>\n",
              "      <td>2</td>\n",
              "      <td>07/01/2023</td>\n",
              "      <td>1</td>\n",
              "      <td>MG</td>\n",
              "      <td>DIVINOPOLIS</td>\n",
              "      <td>1472.0</td>\n",
              "      <td>DIVINOPOLIS</td>\n",
              "      <td>312230</td>\n",
              "      <td>UPA 24 HORAS PADRE ROBERTO CORDEIRO MARTINS</td>\n",
              "      <td>...</td>\n",
              "      <td>216VCD200Z</td>\n",
              "      <td>NaN</td>\n",
              "      <td>2</td>\n",
              "      <td>NaN</td>\n",
              "      <td>NaN</td>\n",
              "      <td>NaN</td>\n",
              "      <td>NaN</td>\n",
              "      <td>NaN</td>\n",
              "      <td>NaN</td>\n",
              "      <td>NaN</td>\n",
              "    </tr>\n",
              "    <tr>\n",
              "      <th>3</th>\n",
              "      <td>12/01/2023</td>\n",
              "      <td>2</td>\n",
              "      <td>07/01/2023</td>\n",
              "      <td>1</td>\n",
              "      <td>SC</td>\n",
              "      <td>FLORIANOPOLIS</td>\n",
              "      <td>1476.0</td>\n",
              "      <td>FLORIANOPOLIS</td>\n",
              "      <td>420540</td>\n",
              "      <td>HOSPITAL INFANTIL JOANA DE GUSMAO</td>\n",
              "      <td>...</td>\n",
              "      <td>NaN</td>\n",
              "      <td>NaN</td>\n",
              "      <td>2</td>\n",
              "      <td>NaN</td>\n",
              "      <td>NaN</td>\n",
              "      <td>NaN</td>\n",
              "      <td>2.0</td>\n",
              "      <td>NaN</td>\n",
              "      <td>NaN</td>\n",
              "      <td>NaN</td>\n",
              "    </tr>\n",
              "    <tr>\n",
              "      <th>4</th>\n",
              "      <td>10/01/2023</td>\n",
              "      <td>2</td>\n",
              "      <td>01/01/2023</td>\n",
              "      <td>1</td>\n",
              "      <td>SP</td>\n",
              "      <td>GVE I CAPITAL</td>\n",
              "      <td>1331.0</td>\n",
              "      <td>SAO PAULO</td>\n",
              "      <td>355030</td>\n",
              "      <td>UPA PIRITUBA</td>\n",
              "      <td>...</td>\n",
              "      <td>NaN</td>\n",
              "      <td>NaN</td>\n",
              "      <td>1</td>\n",
              "      <td>20/10/2022</td>\n",
              "      <td>85 - COVID-19 ASTRAZENECA/FIOCRUZ - COVISHIELD</td>\n",
              "      <td>221VCD027Z</td>\n",
              "      <td>2.0</td>\n",
              "      <td>NaN</td>\n",
              "      <td>NaN</td>\n",
              "      <td>NaN</td>\n",
              "    </tr>\n",
              "    <tr>\n",
              "      <th>5</th>\n",
              "      <td>05/01/2023</td>\n",
              "      <td>1</td>\n",
              "      <td>03/01/2023</td>\n",
              "      <td>1</td>\n",
              "      <td>PE</td>\n",
              "      <td>001</td>\n",
              "      <td>1497.0</td>\n",
              "      <td>RECIFE</td>\n",
              "      <td>261160</td>\n",
              "      <td>HOSPITAL BARAO DE LUCENA</td>\n",
              "      <td>...</td>\n",
              "      <td>NaN</td>\n",
              "      <td>NaN</td>\n",
              "      <td>2</td>\n",
              "      <td>NaN</td>\n",
              "      <td>NaN</td>\n",
              "      <td>NaN</td>\n",
              "      <td>2.0</td>\n",
              "      <td>NaN</td>\n",
              "      <td>NaN</td>\n",
              "      <td>NaN</td>\n",
              "    </tr>\n",
              "    <tr>\n",
              "      <th>6</th>\n",
              "      <td>06/01/2023</td>\n",
              "      <td>1</td>\n",
              "      <td>04/01/2023</td>\n",
              "      <td>1</td>\n",
              "      <td>CE</td>\n",
              "      <td>1 CRES FORTALEZA</td>\n",
              "      <td>1519.0</td>\n",
              "      <td>FORTALEZA</td>\n",
              "      <td>230440</td>\n",
              "      <td>HIAS HOSPITAL INFANTIL ALBERT SABIN</td>\n",
              "      <td>...</td>\n",
              "      <td>NaN</td>\n",
              "      <td>NaN</td>\n",
              "      <td>1</td>\n",
              "      <td>NaN</td>\n",
              "      <td>NaN</td>\n",
              "      <td>NaN</td>\n",
              "      <td>9.0</td>\n",
              "      <td>NaN</td>\n",
              "      <td>NaN</td>\n",
              "      <td>NaN</td>\n",
              "    </tr>\n",
              "    <tr>\n",
              "      <th>7</th>\n",
              "      <td>06/01/2023</td>\n",
              "      <td>1</td>\n",
              "      <td>01/01/2023</td>\n",
              "      <td>1</td>\n",
              "      <td>SP</td>\n",
              "      <td>GVE XXXIII TAUBATE</td>\n",
              "      <td>1352.0</td>\n",
              "      <td>TAUBATE</td>\n",
              "      <td>355410</td>\n",
              "      <td>HOSPITAL REGIONAL DO VALE DO PARAIBA</td>\n",
              "      <td>...</td>\n",
              "      <td>215VCD166Z</td>\n",
              "      <td>NaN</td>\n",
              "      <td>2</td>\n",
              "      <td>NaN</td>\n",
              "      <td>NaN</td>\n",
              "      <td>NaN</td>\n",
              "      <td>2.0</td>\n",
              "      <td>NaN</td>\n",
              "      <td>NaN</td>\n",
              "      <td>NaN</td>\n",
              "    </tr>\n",
              "    <tr>\n",
              "      <th>8</th>\n",
              "      <td>17/01/2023</td>\n",
              "      <td>3</td>\n",
              "      <td>02/01/2023</td>\n",
              "      <td>1</td>\n",
              "      <td>SP</td>\n",
              "      <td>GVE I CAPITAL</td>\n",
              "      <td>1331.0</td>\n",
              "      <td>SAO PAULO</td>\n",
              "      <td>355030</td>\n",
              "      <td>HOSPITAL DA CRIANCA</td>\n",
              "      <td>...</td>\n",
              "      <td>NaN</td>\n",
              "      <td>NaN</td>\n",
              "      <td>1</td>\n",
              "      <td>NaN</td>\n",
              "      <td>NaN</td>\n",
              "      <td>NaN</td>\n",
              "      <td>2.0</td>\n",
              "      <td>NaN</td>\n",
              "      <td>NaN</td>\n",
              "      <td>NaN</td>\n",
              "    </tr>\n",
              "    <tr>\n",
              "      <th>9</th>\n",
              "      <td>17/01/2023</td>\n",
              "      <td>3</td>\n",
              "      <td>16/01/2023</td>\n",
              "      <td>3</td>\n",
              "      <td>PI</td>\n",
              "      <td>1 GRS  PARNAIBA</td>\n",
              "      <td>1868.0</td>\n",
              "      <td>PARNAIBA</td>\n",
              "      <td>220770</td>\n",
              "      <td>HOSPITAL ESTADUAL DIRCEU ARCOVERDE</td>\n",
              "      <td>...</td>\n",
              "      <td>217VCD241Z</td>\n",
              "      <td>NaN</td>\n",
              "      <td>2</td>\n",
              "      <td>NaN</td>\n",
              "      <td>NaN</td>\n",
              "      <td>NaN</td>\n",
              "      <td>NaN</td>\n",
              "      <td>NaN</td>\n",
              "      <td>NaN</td>\n",
              "      <td>NaN</td>\n",
              "    </tr>\n",
              "  </tbody>\n",
              "</table>\n",
              "<p>10 rows × 173 columns</p>\n",
              "</div>\n",
              "      <button class=\"colab-df-convert\" onclick=\"convertToInteractive('df-b0707258-505f-4e3f-b7a8-b3ff88e4072b')\"\n",
              "              title=\"Convert this dataframe to an interactive table.\"\n",
              "              style=\"display:none;\">\n",
              "        \n",
              "  <svg xmlns=\"http://www.w3.org/2000/svg\" height=\"24px\"viewBox=\"0 0 24 24\"\n",
              "       width=\"24px\">\n",
              "    <path d=\"M0 0h24v24H0V0z\" fill=\"none\"/>\n",
              "    <path d=\"M18.56 5.44l.94 2.06.94-2.06 2.06-.94-2.06-.94-.94-2.06-.94 2.06-2.06.94zm-11 1L8.5 8.5l.94-2.06 2.06-.94-2.06-.94L8.5 2.5l-.94 2.06-2.06.94zm10 10l.94 2.06.94-2.06 2.06-.94-2.06-.94-.94-2.06-.94 2.06-2.06.94z\"/><path d=\"M17.41 7.96l-1.37-1.37c-.4-.4-.92-.59-1.43-.59-.52 0-1.04.2-1.43.59L10.3 9.45l-7.72 7.72c-.78.78-.78 2.05 0 2.83L4 21.41c.39.39.9.59 1.41.59.51 0 1.02-.2 1.41-.59l7.78-7.78 2.81-2.81c.8-.78.8-2.07 0-2.86zM5.41 20L4 18.59l7.72-7.72 1.47 1.35L5.41 20z\"/>\n",
              "  </svg>\n",
              "      </button>\n",
              "      \n",
              "  <style>\n",
              "    .colab-df-container {\n",
              "      display:flex;\n",
              "      flex-wrap:wrap;\n",
              "      gap: 12px;\n",
              "    }\n",
              "\n",
              "    .colab-df-convert {\n",
              "      background-color: #E8F0FE;\n",
              "      border: none;\n",
              "      border-radius: 50%;\n",
              "      cursor: pointer;\n",
              "      display: none;\n",
              "      fill: #1967D2;\n",
              "      height: 32px;\n",
              "      padding: 0 0 0 0;\n",
              "      width: 32px;\n",
              "    }\n",
              "\n",
              "    .colab-df-convert:hover {\n",
              "      background-color: #E2EBFA;\n",
              "      box-shadow: 0px 1px 2px rgba(60, 64, 67, 0.3), 0px 1px 3px 1px rgba(60, 64, 67, 0.15);\n",
              "      fill: #174EA6;\n",
              "    }\n",
              "\n",
              "    [theme=dark] .colab-df-convert {\n",
              "      background-color: #3B4455;\n",
              "      fill: #D2E3FC;\n",
              "    }\n",
              "\n",
              "    [theme=dark] .colab-df-convert:hover {\n",
              "      background-color: #434B5C;\n",
              "      box-shadow: 0px 1px 3px 1px rgba(0, 0, 0, 0.15);\n",
              "      filter: drop-shadow(0px 1px 2px rgba(0, 0, 0, 0.3));\n",
              "      fill: #FFFFFF;\n",
              "    }\n",
              "  </style>\n",
              "\n",
              "      <script>\n",
              "        const buttonEl =\n",
              "          document.querySelector('#df-b0707258-505f-4e3f-b7a8-b3ff88e4072b button.colab-df-convert');\n",
              "        buttonEl.style.display =\n",
              "          google.colab.kernel.accessAllowed ? 'block' : 'none';\n",
              "\n",
              "        async function convertToInteractive(key) {\n",
              "          const element = document.querySelector('#df-b0707258-505f-4e3f-b7a8-b3ff88e4072b');\n",
              "          const dataTable =\n",
              "            await google.colab.kernel.invokeFunction('convertToInteractive',\n",
              "                                                     [key], {});\n",
              "          if (!dataTable) return;\n",
              "\n",
              "          const docLinkHtml = 'Like what you see? Visit the ' +\n",
              "            '<a target=\"_blank\" href=https://colab.research.google.com/notebooks/data_table.ipynb>data table notebook</a>'\n",
              "            + ' to learn more about interactive tables.';\n",
              "          element.innerHTML = '';\n",
              "          dataTable['output_type'] = 'display_data';\n",
              "          await google.colab.output.renderOutput(dataTable, element);\n",
              "          const docLink = document.createElement('div');\n",
              "          docLink.innerHTML = docLinkHtml;\n",
              "          element.appendChild(docLink);\n",
              "        }\n",
              "      </script>\n",
              "    </div>\n",
              "  </div>\n",
              "  "
            ]
          },
          "metadata": {},
          "execution_count": 126
        }
      ]
    },
    {
      "cell_type": "code",
      "source": [
        "dados.columns.values"
      ],
      "metadata": {
        "id": "XDoEYkHHL2Sq",
        "colab": {
          "base_uri": "https://localhost:8080/"
        },
        "outputId": "14697d34-35ac-4e2d-9096-5c99e786a27a"
      },
      "execution_count": null,
      "outputs": [
        {
          "output_type": "execute_result",
          "data": {
            "text/plain": [
              "array(['DT_NOTIFIC', 'SEM_NOT', 'DT_SIN_PRI', 'SEM_PRI', 'SG_UF_NOT',\n",
              "       'ID_REGIONA', 'CO_REGIONA', 'ID_MUNICIP', 'CO_MUN_NOT',\n",
              "       'ID_UNIDADE', 'CO_UNI_NOT', 'CS_SEXO', 'DT_NASC', 'NU_IDADE_N',\n",
              "       'TP_IDADE', 'COD_IDADE', 'CS_GESTANT', 'CS_RACA', 'CS_ESCOL_N',\n",
              "       'ID_PAIS', 'CO_PAIS', 'SG_UF', 'ID_RG_RESI', 'CO_RG_RESI',\n",
              "       'ID_MN_RESI', 'CO_MUN_RES', 'CS_ZONA', 'SURTO_SG', 'NOSOCOMIAL',\n",
              "       'AVE_SUINO', 'FEBRE', 'TOSSE', 'GARGANTA', 'DISPNEIA', 'DESC_RESP',\n",
              "       'SATURACAO', 'DIARREIA', 'VOMITO', 'OUTRO_SIN', 'OUTRO_DES',\n",
              "       'PUERPERA', 'FATOR_RISC', 'CARDIOPATI', 'HEMATOLOGI', 'SIND_DOWN',\n",
              "       'HEPATICA', 'ASMA', 'DIABETES', 'NEUROLOGIC', 'PNEUMOPATI',\n",
              "       'IMUNODEPRE', 'RENAL', 'OBESIDADE', 'OBES_IMC', 'OUT_MORBI',\n",
              "       'MORB_DESC', 'VACINA', 'DT_UT_DOSE', 'MAE_VAC', 'DT_VAC_MAE',\n",
              "       'M_AMAMENTA', 'DT_DOSEUNI', 'DT_1_DOSE', 'DT_2_DOSE', 'ANTIVIRAL',\n",
              "       'TP_ANTIVIR', 'OUT_ANTIV', 'DT_ANTIVIR', 'HOSPITAL', 'DT_INTERNA',\n",
              "       'SG_UF_INTE', 'ID_RG_INTE', 'CO_RG_INTE', 'ID_MN_INTE',\n",
              "       'CO_MU_INTE', 'UTI', 'DT_ENTUTI', 'DT_SAIDUTI', 'SUPORT_VEN',\n",
              "       'RAIOX_RES', 'RAIOX_OUT', 'DT_RAIOX', 'AMOSTRA', 'DT_COLETA',\n",
              "       'TP_AMOSTRA', 'OUT_AMOST', 'PCR_RESUL', 'DT_PCR', 'POS_PCRFLU',\n",
              "       'TP_FLU_PCR', 'PCR_FLUASU', 'FLUASU_OUT', 'PCR_FLUBLI',\n",
              "       'FLUBLI_OUT', 'POS_PCROUT', 'PCR_VSR', 'PCR_PARA1', 'PCR_PARA2',\n",
              "       'PCR_PARA3', 'PCR_PARA4', 'PCR_ADENO', 'PCR_METAP', 'PCR_BOCA',\n",
              "       'PCR_RINO', 'PCR_OUTRO', 'DS_PCR_OUT', 'CLASSI_FIN', 'CLASSI_OUT',\n",
              "       'CRITERIO', 'EVOLUCAO', 'DT_EVOLUCA', 'DT_ENCERRA', 'DT_DIGITA',\n",
              "       'HISTO_VGM', 'PAIS_VGM', 'CO_PS_VGM', 'LO_PS_VGM', 'DT_VGM',\n",
              "       'DT_RT_VGM', 'PCR_SARS2', 'PAC_COCBO', 'PAC_DSCBO', 'OUT_ANIM',\n",
              "       'DOR_ABD', 'FADIGA', 'PERD_OLFT', 'PERD_PALA', 'TOMO_RES',\n",
              "       'TOMO_OUT', 'DT_TOMO', 'TP_TES_AN', 'DT_RES_AN', 'RES_AN',\n",
              "       'POS_AN_FLU', 'TP_FLU_AN', 'POS_AN_OUT', 'AN_SARS2', 'AN_VSR',\n",
              "       'AN_PARA1', 'AN_PARA2', 'AN_PARA3', 'AN_ADENO', 'AN_OUTRO',\n",
              "       'DS_AN_OUT', 'TP_AM_SOR', 'SOR_OUT', 'DT_CO_SOR', 'TP_SOR',\n",
              "       'OUT_SOR', 'DT_RES', 'RES_IGG', 'RES_IGM', 'RES_IGA', 'ESTRANG',\n",
              "       'VACINA_COV', 'DOSE_1_COV', 'DOSE_2_COV', 'DOSE_REF', 'FAB_COV_1',\n",
              "       'FAB_COV_2', 'FAB_COVREF', 'LAB_PR_COV', 'LOTE_1_COV',\n",
              "       'LOTE_2_COV', 'LOTE_REF', 'FNT_IN_COV', 'DOSE_2REF', 'FAB_COVRF2',\n",
              "       'LOTE_REF2', 'TRAT_COV', 'TIPO_TRAT', 'OUT_TRAT', 'DT_TRT_COV'],\n",
              "      dtype=object)"
            ]
          },
          "metadata": {},
          "execution_count": 127
        }
      ]
    },
    {
      "cell_type": "code",
      "source": [
        "#Selecionando colunas de interesse\n",
        "dadosSelecionados = dados.filter(items = ['NU_IDADE_N', 'CS_GESTANT', 'CARDIOPATI', 'HEMATOLOGI', 'HEPATICA', 'DIABETES', 'NEUROLOGIC', 'PNEUMOPATI',\n",
        "       'IMUNODEPRE', 'RENAL', 'OBESIDADE', 'VACINA_COV', 'CLASSI_FIN', 'EVOLUCAO'])"
      ],
      "metadata": {
        "id": "fnKty6ENL6YA"
      },
      "execution_count": null,
      "outputs": []
    },
    {
      "cell_type": "code",
      "source": [
        "dadosSelecionados.head()"
      ],
      "metadata": {
        "id": "faNaxkksL-Ae",
        "colab": {
          "base_uri": "https://localhost:8080/",
          "height": 270
        },
        "outputId": "549cf9e7-c0da-4e71-e932-2aa4ae3a6cbe"
      },
      "execution_count": null,
      "outputs": [
        {
          "output_type": "execute_result",
          "data": {
            "text/plain": [
              "   NU_IDADE_N  CS_GESTANT  CARDIOPATI  HEMATOLOGI  HEPATICA  DIABETES  \\\n",
              "0          74           5         NaN         NaN       NaN       NaN   \n",
              "1          79           6         1.0         2.0       2.0       2.0   \n",
              "2          75           6         2.0         2.0       2.0       1.0   \n",
              "3           5           6         NaN         NaN       NaN       NaN   \n",
              "4          54           5         2.0         2.0       2.0       2.0   \n",
              "\n",
              "   NEUROLOGIC  PNEUMOPATI  IMUNODEPRE  RENAL  OBESIDADE  VACINA_COV  \\\n",
              "0         NaN         NaN         NaN    NaN        NaN         1.0   \n",
              "1         2.0         1.0         2.0    2.0        1.0         1.0   \n",
              "2         1.0         2.0         2.0    NaN        NaN         1.0   \n",
              "3         NaN         NaN         NaN    NaN        NaN         2.0   \n",
              "4         1.0         1.0         2.0    1.0        2.0         1.0   \n",
              "\n",
              "   CLASSI_FIN  EVOLUCAO  \n",
              "0         5.0       1.0  \n",
              "1         4.0       2.0  \n",
              "2         5.0       1.0  \n",
              "3         2.0       1.0  \n",
              "4         5.0       2.0  "
            ],
            "text/html": [
              "\n",
              "  <div id=\"df-544d5bee-7b0c-4a65-ba0f-ad8969b0ce9f\">\n",
              "    <div class=\"colab-df-container\">\n",
              "      <div>\n",
              "<style scoped>\n",
              "    .dataframe tbody tr th:only-of-type {\n",
              "        vertical-align: middle;\n",
              "    }\n",
              "\n",
              "    .dataframe tbody tr th {\n",
              "        vertical-align: top;\n",
              "    }\n",
              "\n",
              "    .dataframe thead th {\n",
              "        text-align: right;\n",
              "    }\n",
              "</style>\n",
              "<table border=\"1\" class=\"dataframe\">\n",
              "  <thead>\n",
              "    <tr style=\"text-align: right;\">\n",
              "      <th></th>\n",
              "      <th>NU_IDADE_N</th>\n",
              "      <th>CS_GESTANT</th>\n",
              "      <th>CARDIOPATI</th>\n",
              "      <th>HEMATOLOGI</th>\n",
              "      <th>HEPATICA</th>\n",
              "      <th>DIABETES</th>\n",
              "      <th>NEUROLOGIC</th>\n",
              "      <th>PNEUMOPATI</th>\n",
              "      <th>IMUNODEPRE</th>\n",
              "      <th>RENAL</th>\n",
              "      <th>OBESIDADE</th>\n",
              "      <th>VACINA_COV</th>\n",
              "      <th>CLASSI_FIN</th>\n",
              "      <th>EVOLUCAO</th>\n",
              "    </tr>\n",
              "  </thead>\n",
              "  <tbody>\n",
              "    <tr>\n",
              "      <th>0</th>\n",
              "      <td>74</td>\n",
              "      <td>5</td>\n",
              "      <td>NaN</td>\n",
              "      <td>NaN</td>\n",
              "      <td>NaN</td>\n",
              "      <td>NaN</td>\n",
              "      <td>NaN</td>\n",
              "      <td>NaN</td>\n",
              "      <td>NaN</td>\n",
              "      <td>NaN</td>\n",
              "      <td>NaN</td>\n",
              "      <td>1.0</td>\n",
              "      <td>5.0</td>\n",
              "      <td>1.0</td>\n",
              "    </tr>\n",
              "    <tr>\n",
              "      <th>1</th>\n",
              "      <td>79</td>\n",
              "      <td>6</td>\n",
              "      <td>1.0</td>\n",
              "      <td>2.0</td>\n",
              "      <td>2.0</td>\n",
              "      <td>2.0</td>\n",
              "      <td>2.0</td>\n",
              "      <td>1.0</td>\n",
              "      <td>2.0</td>\n",
              "      <td>2.0</td>\n",
              "      <td>1.0</td>\n",
              "      <td>1.0</td>\n",
              "      <td>4.0</td>\n",
              "      <td>2.0</td>\n",
              "    </tr>\n",
              "    <tr>\n",
              "      <th>2</th>\n",
              "      <td>75</td>\n",
              "      <td>6</td>\n",
              "      <td>2.0</td>\n",
              "      <td>2.0</td>\n",
              "      <td>2.0</td>\n",
              "      <td>1.0</td>\n",
              "      <td>1.0</td>\n",
              "      <td>2.0</td>\n",
              "      <td>2.0</td>\n",
              "      <td>NaN</td>\n",
              "      <td>NaN</td>\n",
              "      <td>1.0</td>\n",
              "      <td>5.0</td>\n",
              "      <td>1.0</td>\n",
              "    </tr>\n",
              "    <tr>\n",
              "      <th>3</th>\n",
              "      <td>5</td>\n",
              "      <td>6</td>\n",
              "      <td>NaN</td>\n",
              "      <td>NaN</td>\n",
              "      <td>NaN</td>\n",
              "      <td>NaN</td>\n",
              "      <td>NaN</td>\n",
              "      <td>NaN</td>\n",
              "      <td>NaN</td>\n",
              "      <td>NaN</td>\n",
              "      <td>NaN</td>\n",
              "      <td>2.0</td>\n",
              "      <td>2.0</td>\n",
              "      <td>1.0</td>\n",
              "    </tr>\n",
              "    <tr>\n",
              "      <th>4</th>\n",
              "      <td>54</td>\n",
              "      <td>5</td>\n",
              "      <td>2.0</td>\n",
              "      <td>2.0</td>\n",
              "      <td>2.0</td>\n",
              "      <td>2.0</td>\n",
              "      <td>1.0</td>\n",
              "      <td>1.0</td>\n",
              "      <td>2.0</td>\n",
              "      <td>1.0</td>\n",
              "      <td>2.0</td>\n",
              "      <td>1.0</td>\n",
              "      <td>5.0</td>\n",
              "      <td>2.0</td>\n",
              "    </tr>\n",
              "  </tbody>\n",
              "</table>\n",
              "</div>\n",
              "      <button class=\"colab-df-convert\" onclick=\"convertToInteractive('df-544d5bee-7b0c-4a65-ba0f-ad8969b0ce9f')\"\n",
              "              title=\"Convert this dataframe to an interactive table.\"\n",
              "              style=\"display:none;\">\n",
              "        \n",
              "  <svg xmlns=\"http://www.w3.org/2000/svg\" height=\"24px\"viewBox=\"0 0 24 24\"\n",
              "       width=\"24px\">\n",
              "    <path d=\"M0 0h24v24H0V0z\" fill=\"none\"/>\n",
              "    <path d=\"M18.56 5.44l.94 2.06.94-2.06 2.06-.94-2.06-.94-.94-2.06-.94 2.06-2.06.94zm-11 1L8.5 8.5l.94-2.06 2.06-.94-2.06-.94L8.5 2.5l-.94 2.06-2.06.94zm10 10l.94 2.06.94-2.06 2.06-.94-2.06-.94-.94-2.06-.94 2.06-2.06.94z\"/><path d=\"M17.41 7.96l-1.37-1.37c-.4-.4-.92-.59-1.43-.59-.52 0-1.04.2-1.43.59L10.3 9.45l-7.72 7.72c-.78.78-.78 2.05 0 2.83L4 21.41c.39.39.9.59 1.41.59.51 0 1.02-.2 1.41-.59l7.78-7.78 2.81-2.81c.8-.78.8-2.07 0-2.86zM5.41 20L4 18.59l7.72-7.72 1.47 1.35L5.41 20z\"/>\n",
              "  </svg>\n",
              "      </button>\n",
              "      \n",
              "  <style>\n",
              "    .colab-df-container {\n",
              "      display:flex;\n",
              "      flex-wrap:wrap;\n",
              "      gap: 12px;\n",
              "    }\n",
              "\n",
              "    .colab-df-convert {\n",
              "      background-color: #E8F0FE;\n",
              "      border: none;\n",
              "      border-radius: 50%;\n",
              "      cursor: pointer;\n",
              "      display: none;\n",
              "      fill: #1967D2;\n",
              "      height: 32px;\n",
              "      padding: 0 0 0 0;\n",
              "      width: 32px;\n",
              "    }\n",
              "\n",
              "    .colab-df-convert:hover {\n",
              "      background-color: #E2EBFA;\n",
              "      box-shadow: 0px 1px 2px rgba(60, 64, 67, 0.3), 0px 1px 3px 1px rgba(60, 64, 67, 0.15);\n",
              "      fill: #174EA6;\n",
              "    }\n",
              "\n",
              "    [theme=dark] .colab-df-convert {\n",
              "      background-color: #3B4455;\n",
              "      fill: #D2E3FC;\n",
              "    }\n",
              "\n",
              "    [theme=dark] .colab-df-convert:hover {\n",
              "      background-color: #434B5C;\n",
              "      box-shadow: 0px 1px 3px 1px rgba(0, 0, 0, 0.15);\n",
              "      filter: drop-shadow(0px 1px 2px rgba(0, 0, 0, 0.3));\n",
              "      fill: #FFFFFF;\n",
              "    }\n",
              "  </style>\n",
              "\n",
              "      <script>\n",
              "        const buttonEl =\n",
              "          document.querySelector('#df-544d5bee-7b0c-4a65-ba0f-ad8969b0ce9f button.colab-df-convert');\n",
              "        buttonEl.style.display =\n",
              "          google.colab.kernel.accessAllowed ? 'block' : 'none';\n",
              "\n",
              "        async function convertToInteractive(key) {\n",
              "          const element = document.querySelector('#df-544d5bee-7b0c-4a65-ba0f-ad8969b0ce9f');\n",
              "          const dataTable =\n",
              "            await google.colab.kernel.invokeFunction('convertToInteractive',\n",
              "                                                     [key], {});\n",
              "          if (!dataTable) return;\n",
              "\n",
              "          const docLinkHtml = 'Like what you see? Visit the ' +\n",
              "            '<a target=\"_blank\" href=https://colab.research.google.com/notebooks/data_table.ipynb>data table notebook</a>'\n",
              "            + ' to learn more about interactive tables.';\n",
              "          element.innerHTML = '';\n",
              "          dataTable['output_type'] = 'display_data';\n",
              "          await google.colab.output.renderOutput(dataTable, element);\n",
              "          const docLink = document.createElement('div');\n",
              "          docLink.innerHTML = docLinkHtml;\n",
              "          element.appendChild(docLink);\n",
              "        }\n",
              "      </script>\n",
              "    </div>\n",
              "  </div>\n",
              "  "
            ]
          },
          "metadata": {},
          "execution_count": 129
        }
      ]
    },
    {
      "cell_type": "markdown",
      "source": [
        "# Tratamento dos dados\n"
      ],
      "metadata": {
        "id": "o3IGl_S3M7-W"
      }
    },
    {
      "cell_type": "code",
      "source": [
        "#Verificando os dados nulos\n",
        "dadosSelecionados.isna().sum()"
      ],
      "metadata": {
        "id": "jkWWE5IBMGdA",
        "colab": {
          "base_uri": "https://localhost:8080/"
        },
        "outputId": "750dcea2-d237-4e60-f943-52effa7ba988"
      },
      "execution_count": null,
      "outputs": [
        {
          "output_type": "execute_result",
          "data": {
            "text/plain": [
              "NU_IDADE_N        0\n",
              "CS_GESTANT        0\n",
              "CARDIOPATI    85734\n",
              "HEMATOLOGI    92000\n",
              "HEPATICA      92209\n",
              "DIABETES      88235\n",
              "NEUROLOGIC    90403\n",
              "PNEUMOPATI    90656\n",
              "IMUNODEPRE    91122\n",
              "RENAL         91601\n",
              "OBESIDADE     92240\n",
              "VACINA_COV       48\n",
              "CLASSI_FIN    18871\n",
              "EVOLUCAO      31352\n",
              "dtype: int64"
            ]
          },
          "metadata": {},
          "execution_count": 130
        }
      ]
    },
    {
      "cell_type": "code",
      "source": [
        "#Apagando os dados nulos\n",
        "for coluna in dadosSelecionados.columns:\n",
        "    dadosSelecionados = dadosSelecionados.dropna(subset=[coluna])\n",
        "\n",
        "dadosSelecionados.isna().sum()"
      ],
      "metadata": {
        "id": "9HGjSCPdOrWG",
        "colab": {
          "base_uri": "https://localhost:8080/"
        },
        "outputId": "4ed36da8-ea21-4ce4-8aa3-3bb04dcf8583"
      },
      "execution_count": null,
      "outputs": [
        {
          "output_type": "execute_result",
          "data": {
            "text/plain": [
              "NU_IDADE_N    0\n",
              "CS_GESTANT    0\n",
              "CARDIOPATI    0\n",
              "HEMATOLOGI    0\n",
              "HEPATICA      0\n",
              "DIABETES      0\n",
              "NEUROLOGIC    0\n",
              "PNEUMOPATI    0\n",
              "IMUNODEPRE    0\n",
              "RENAL         0\n",
              "OBESIDADE     0\n",
              "VACINA_COV    0\n",
              "CLASSI_FIN    0\n",
              "EVOLUCAO      0\n",
              "dtype: int64"
            ]
          },
          "metadata": {},
          "execution_count": 131
        }
      ]
    },
    {
      "cell_type": "code",
      "source": [
        "#Verificando os tipo\n",
        "dadosSelecionados.dtypes"
      ],
      "metadata": {
        "id": "-jDQc61MMDDZ",
        "colab": {
          "base_uri": "https://localhost:8080/"
        },
        "outputId": "fbb8c149-aa24-4287-a71a-b67974e5271e"
      },
      "execution_count": null,
      "outputs": [
        {
          "output_type": "execute_result",
          "data": {
            "text/plain": [
              "NU_IDADE_N      int64\n",
              "CS_GESTANT      int64\n",
              "CARDIOPATI    float64\n",
              "HEMATOLOGI    float64\n",
              "HEPATICA      float64\n",
              "DIABETES      float64\n",
              "NEUROLOGIC    float64\n",
              "PNEUMOPATI    float64\n",
              "IMUNODEPRE    float64\n",
              "RENAL         float64\n",
              "OBESIDADE     float64\n",
              "VACINA_COV    float64\n",
              "CLASSI_FIN    float64\n",
              "EVOLUCAO      float64\n",
              "dtype: object"
            ]
          },
          "metadata": {},
          "execution_count": 132
        }
      ]
    },
    {
      "cell_type": "code",
      "source": [
        "#Alterando os dados para inteiro\n",
        "colunas_inteiro = [coluna for coluna in dadosSelecionados.columns]\n",
        "dadosSelecionados[colunas_inteiro] = dadosSelecionados[colunas_inteiro].astype(int)"
      ],
      "metadata": {
        "id": "dvXFc96zO8xy"
      },
      "execution_count": null,
      "outputs": []
    },
    {
      "cell_type": "code",
      "source": [
        "#Selecionando apenas os casos de pacientes com COVID\n",
        "dadosSelecionados = dadosSelecionados[dadosSelecionados['CLASSI_FIN'] == 5]"
      ],
      "metadata": {
        "id": "YnANXGldNIjB"
      },
      "execution_count": null,
      "outputs": []
    },
    {
      "cell_type": "code",
      "source": [
        "#Verificando as categorias\n",
        "for coluna in dadosSelecionados.columns:\n",
        "  grupos = dadosSelecionados.groupby(coluna).size()\n",
        "  print(coluna)\n",
        "  print(grupos)"
      ],
      "metadata": {
        "id": "Ujr4sraANZB8",
        "colab": {
          "base_uri": "https://localhost:8080/"
        },
        "outputId": "d4d30035-b9d5-4dae-ce28-3a9c373061c9"
      },
      "execution_count": null,
      "outputs": [
        {
          "output_type": "stream",
          "name": "stdout",
          "text": [
            "NU_IDADE_N\n",
            "NU_IDADE_N\n",
            "0       3\n",
            "1      53\n",
            "2      46\n",
            "3      48\n",
            "4      41\n",
            "       ..\n",
            "103     2\n",
            "104     6\n",
            "105     1\n",
            "106     2\n",
            "107     1\n",
            "Length: 108, dtype: int64\n",
            "CS_GESTANT\n",
            "CS_GESTANT\n",
            "1       6\n",
            "2      14\n",
            "3      51\n",
            "4       4\n",
            "5    3100\n",
            "6    4747\n",
            "9     157\n",
            "dtype: int64\n",
            "CARDIOPATI\n",
            "CARDIOPATI\n",
            "1    3976\n",
            "2    4041\n",
            "9      62\n",
            "dtype: int64\n",
            "HEMATOLOGI\n",
            "HEMATOLOGI\n",
            "1     206\n",
            "2    7771\n",
            "9     102\n",
            "dtype: int64\n",
            "HEPATICA\n",
            "HEPATICA\n",
            "1     153\n",
            "2    7825\n",
            "9     101\n",
            "dtype: int64\n",
            "DIABETES\n",
            "DIABETES\n",
            "1    2552\n",
            "2    5459\n",
            "9      68\n",
            "dtype: int64\n",
            "NEUROLOGIC\n",
            "NEUROLOGIC\n",
            "1    1016\n",
            "2    6974\n",
            "9      89\n",
            "dtype: int64\n",
            "PNEUMOPATI\n",
            "PNEUMOPATI\n",
            "1     805\n",
            "2    7184\n",
            "9      90\n",
            "dtype: int64\n",
            "IMUNODEPRE\n",
            "IMUNODEPRE\n",
            "1     688\n",
            "2    7296\n",
            "9      95\n",
            "dtype: int64\n",
            "RENAL\n",
            "RENAL\n",
            "1     663\n",
            "2    7325\n",
            "9      91\n",
            "dtype: int64\n",
            "OBESIDADE\n",
            "OBESIDADE\n",
            "1     555\n",
            "2    7393\n",
            "9     131\n",
            "dtype: int64\n",
            "VACINA_COV\n",
            "VACINA_COV\n",
            "1    7138\n",
            "2     868\n",
            "9      73\n",
            "dtype: int64\n",
            "CLASSI_FIN\n",
            "CLASSI_FIN\n",
            "5    8079\n",
            "dtype: int64\n",
            "EVOLUCAO\n",
            "EVOLUCAO\n",
            "1    5500\n",
            "2    2080\n",
            "3     263\n",
            "9     236\n",
            "dtype: int64\n"
          ]
        }
      ]
    },
    {
      "cell_type": "code",
      "source": [
        "#Verificando se existe alguma anormalidade na idade\n",
        "dadosSelecionados.loc[(dadosSelecionados['NU_IDADE_N'] > 121) | (dadosSelecionados['NU_IDADE_N'] < 0)]"
      ],
      "metadata": {
        "id": "PhGxo5ufPIXQ",
        "colab": {
          "base_uri": "https://localhost:8080/",
          "height": 113
        },
        "outputId": "d11cb403-3a22-443f-ccae-c77514e335c2"
      },
      "execution_count": null,
      "outputs": [
        {
          "output_type": "execute_result",
          "data": {
            "text/plain": [
              "Empty DataFrame\n",
              "Columns: [NU_IDADE_N, CS_GESTANT, CARDIOPATI, HEMATOLOGI, HEPATICA, DIABETES, NEUROLOGIC, PNEUMOPATI, IMUNODEPRE, RENAL, OBESIDADE, VACINA_COV, CLASSI_FIN, EVOLUCAO]\n",
              "Index: []"
            ],
            "text/html": [
              "\n",
              "  <div id=\"df-bdd07862-4c0e-4b32-8a42-64e0255bc3ae\">\n",
              "    <div class=\"colab-df-container\">\n",
              "      <div>\n",
              "<style scoped>\n",
              "    .dataframe tbody tr th:only-of-type {\n",
              "        vertical-align: middle;\n",
              "    }\n",
              "\n",
              "    .dataframe tbody tr th {\n",
              "        vertical-align: top;\n",
              "    }\n",
              "\n",
              "    .dataframe thead th {\n",
              "        text-align: right;\n",
              "    }\n",
              "</style>\n",
              "<table border=\"1\" class=\"dataframe\">\n",
              "  <thead>\n",
              "    <tr style=\"text-align: right;\">\n",
              "      <th></th>\n",
              "      <th>NU_IDADE_N</th>\n",
              "      <th>CS_GESTANT</th>\n",
              "      <th>CARDIOPATI</th>\n",
              "      <th>HEMATOLOGI</th>\n",
              "      <th>HEPATICA</th>\n",
              "      <th>DIABETES</th>\n",
              "      <th>NEUROLOGIC</th>\n",
              "      <th>PNEUMOPATI</th>\n",
              "      <th>IMUNODEPRE</th>\n",
              "      <th>RENAL</th>\n",
              "      <th>OBESIDADE</th>\n",
              "      <th>VACINA_COV</th>\n",
              "      <th>CLASSI_FIN</th>\n",
              "      <th>EVOLUCAO</th>\n",
              "    </tr>\n",
              "  </thead>\n",
              "  <tbody>\n",
              "  </tbody>\n",
              "</table>\n",
              "</div>\n",
              "      <button class=\"colab-df-convert\" onclick=\"convertToInteractive('df-bdd07862-4c0e-4b32-8a42-64e0255bc3ae')\"\n",
              "              title=\"Convert this dataframe to an interactive table.\"\n",
              "              style=\"display:none;\">\n",
              "        \n",
              "  <svg xmlns=\"http://www.w3.org/2000/svg\" height=\"24px\"viewBox=\"0 0 24 24\"\n",
              "       width=\"24px\">\n",
              "    <path d=\"M0 0h24v24H0V0z\" fill=\"none\"/>\n",
              "    <path d=\"M18.56 5.44l.94 2.06.94-2.06 2.06-.94-2.06-.94-.94-2.06-.94 2.06-2.06.94zm-11 1L8.5 8.5l.94-2.06 2.06-.94-2.06-.94L8.5 2.5l-.94 2.06-2.06.94zm10 10l.94 2.06.94-2.06 2.06-.94-2.06-.94-.94-2.06-.94 2.06-2.06.94z\"/><path d=\"M17.41 7.96l-1.37-1.37c-.4-.4-.92-.59-1.43-.59-.52 0-1.04.2-1.43.59L10.3 9.45l-7.72 7.72c-.78.78-.78 2.05 0 2.83L4 21.41c.39.39.9.59 1.41.59.51 0 1.02-.2 1.41-.59l7.78-7.78 2.81-2.81c.8-.78.8-2.07 0-2.86zM5.41 20L4 18.59l7.72-7.72 1.47 1.35L5.41 20z\"/>\n",
              "  </svg>\n",
              "      </button>\n",
              "      \n",
              "  <style>\n",
              "    .colab-df-container {\n",
              "      display:flex;\n",
              "      flex-wrap:wrap;\n",
              "      gap: 12px;\n",
              "    }\n",
              "\n",
              "    .colab-df-convert {\n",
              "      background-color: #E8F0FE;\n",
              "      border: none;\n",
              "      border-radius: 50%;\n",
              "      cursor: pointer;\n",
              "      display: none;\n",
              "      fill: #1967D2;\n",
              "      height: 32px;\n",
              "      padding: 0 0 0 0;\n",
              "      width: 32px;\n",
              "    }\n",
              "\n",
              "    .colab-df-convert:hover {\n",
              "      background-color: #E2EBFA;\n",
              "      box-shadow: 0px 1px 2px rgba(60, 64, 67, 0.3), 0px 1px 3px 1px rgba(60, 64, 67, 0.15);\n",
              "      fill: #174EA6;\n",
              "    }\n",
              "\n",
              "    [theme=dark] .colab-df-convert {\n",
              "      background-color: #3B4455;\n",
              "      fill: #D2E3FC;\n",
              "    }\n",
              "\n",
              "    [theme=dark] .colab-df-convert:hover {\n",
              "      background-color: #434B5C;\n",
              "      box-shadow: 0px 1px 3px 1px rgba(0, 0, 0, 0.15);\n",
              "      filter: drop-shadow(0px 1px 2px rgba(0, 0, 0, 0.3));\n",
              "      fill: #FFFFFF;\n",
              "    }\n",
              "  </style>\n",
              "\n",
              "      <script>\n",
              "        const buttonEl =\n",
              "          document.querySelector('#df-bdd07862-4c0e-4b32-8a42-64e0255bc3ae button.colab-df-convert');\n",
              "        buttonEl.style.display =\n",
              "          google.colab.kernel.accessAllowed ? 'block' : 'none';\n",
              "\n",
              "        async function convertToInteractive(key) {\n",
              "          const element = document.querySelector('#df-bdd07862-4c0e-4b32-8a42-64e0255bc3ae');\n",
              "          const dataTable =\n",
              "            await google.colab.kernel.invokeFunction('convertToInteractive',\n",
              "                                                     [key], {});\n",
              "          if (!dataTable) return;\n",
              "\n",
              "          const docLinkHtml = 'Like what you see? Visit the ' +\n",
              "            '<a target=\"_blank\" href=https://colab.research.google.com/notebooks/data_table.ipynb>data table notebook</a>'\n",
              "            + ' to learn more about interactive tables.';\n",
              "          element.innerHTML = '';\n",
              "          dataTable['output_type'] = 'display_data';\n",
              "          await google.colab.output.renderOutput(dataTable, element);\n",
              "          const docLink = document.createElement('div');\n",
              "          docLink.innerHTML = docLinkHtml;\n",
              "          element.appendChild(docLink);\n",
              "        }\n",
              "      </script>\n",
              "    </div>\n",
              "  </div>\n",
              "  "
            ]
          },
          "metadata": {},
          "execution_count": 136
        }
      ]
    },
    {
      "cell_type": "code",
      "source": [
        "#Removendo dados não informados pra todas as colunas\n",
        "for coluna in dadosSelecionados.columns:\n",
        "    dadosTratados = dadosSelecionados.drop(dadosSelecionados[dadosSelecionados[coluna] == 9.0].index)\n",
        "    dadosSelecionados = dadosTratados.copy()  # Reatribuir o DataFrame modificado a dadosSelecionados\n",
        "    grupos = dadosTratados.groupby(coluna).size()\n",
        "    print(grupos)"
      ],
      "metadata": {
        "id": "bdT9hyEMPOM9",
        "colab": {
          "base_uri": "https://localhost:8080/"
        },
        "outputId": "71130b3b-1b9c-45c3-85e4-4c44e0024ac3"
      },
      "execution_count": null,
      "outputs": [
        {
          "output_type": "stream",
          "name": "stdout",
          "text": [
            "NU_IDADE_N\n",
            "0       3\n",
            "1      53\n",
            "2      46\n",
            "3      48\n",
            "4      41\n",
            "       ..\n",
            "103     2\n",
            "104     6\n",
            "105     1\n",
            "106     2\n",
            "107     1\n",
            "Length: 107, dtype: int64\n",
            "CS_GESTANT\n",
            "1       6\n",
            "2      14\n",
            "3      51\n",
            "4       4\n",
            "5    3099\n",
            "6    4728\n",
            "dtype: int64\n",
            "CARDIOPATI\n",
            "1    3899\n",
            "2    3956\n",
            "dtype: int64\n",
            "HEMATOLOGI\n",
            "1     194\n",
            "2    7615\n",
            "dtype: int64\n",
            "HEPATICA\n",
            "1     150\n",
            "2    7651\n",
            "dtype: int64\n",
            "DIABETES\n",
            "1    2484\n",
            "2    5312\n",
            "dtype: int64\n",
            "NEUROLOGIC\n",
            "1     983\n",
            "2    6804\n",
            "dtype: int64\n",
            "PNEUMOPATI\n",
            "1     776\n",
            "2    7005\n",
            "dtype: int64\n",
            "IMUNODEPRE\n",
            "1     652\n",
            "2    7120\n",
            "dtype: int64\n",
            "RENAL\n",
            "1     640\n",
            "2    7124\n",
            "dtype: int64\n",
            "OBESIDADE\n",
            "1     533\n",
            "2    7190\n",
            "dtype: int64\n",
            "VACINA_COV\n",
            "1    6825\n",
            "2     831\n",
            "dtype: int64\n",
            "CLASSI_FIN\n",
            "5    7656\n",
            "dtype: int64\n",
            "EVOLUCAO\n",
            "1    5224\n",
            "2    1978\n",
            "3     240\n",
            "dtype: int64\n"
          ]
        }
      ]
    },
    {
      "cell_type": "code",
      "source": [
        "#Verificando as categorias de gestante\n",
        "dadosTratados.groupby('CS_GESTANT').size()"
      ],
      "metadata": {
        "id": "SfhQNEb1PVbc",
        "colab": {
          "base_uri": "https://localhost:8080/"
        },
        "outputId": "0c979042-d960-46d7-fd21-7ac652164f5b"
      },
      "execution_count": null,
      "outputs": [
        {
          "output_type": "execute_result",
          "data": {
            "text/plain": [
              "CS_GESTANT\n",
              "1       6\n",
              "2      14\n",
              "3      50\n",
              "4       4\n",
              "5    2944\n",
              "6    4424\n",
              "dtype: int64"
            ]
          },
          "metadata": {},
          "execution_count": 138
        }
      ]
    },
    {
      "cell_type": "code",
      "source": [
        "#Transformando os dados em gestante ou não gestante\n",
        "dadosTratados.loc[dadosTratados['CS_GESTANT'].isin([1, 2, 3, 4]), 'CS_GESTANT'] = 1\n",
        "dadosTratados.loc[dadosTratados['CS_GESTANT'].isin([5, 6]), 'CS_GESTANT'] = 0\n",
        "dadosTratados.groupby('CS_GESTANT').size()"
      ],
      "metadata": {
        "id": "rHCD2poVPj0m",
        "colab": {
          "base_uri": "https://localhost:8080/"
        },
        "outputId": "5eb797b8-1f4e-4d2a-a00d-608422d5a9c3"
      },
      "execution_count": null,
      "outputs": [
        {
          "output_type": "execute_result",
          "data": {
            "text/plain": [
              "CS_GESTANT\n",
              "0    7368\n",
              "1      74\n",
              "dtype: int64"
            ]
          },
          "metadata": {},
          "execution_count": 139
        }
      ]
    },
    {
      "cell_type": "code",
      "source": [
        "#Excluindo os casos de óbito por outros motivos\n",
        "dadosTratados = dadosTratados[dadosTratados['EVOLUCAO'] != 3]\n",
        "dadosTratados.groupby('EVOLUCAO').size()"
      ],
      "metadata": {
        "id": "QWk2rJRDPr0k",
        "colab": {
          "base_uri": "https://localhost:8080/"
        },
        "outputId": "5d2ddac0-061b-4f20-8b58-f78fffe4f815"
      },
      "execution_count": null,
      "outputs": [
        {
          "output_type": "execute_result",
          "data": {
            "text/plain": [
              "EVOLUCAO\n",
              "1    5224\n",
              "2    1978\n",
              "dtype: int64"
            ]
          },
          "metadata": {},
          "execution_count": 140
        }
      ]
    },
    {
      "cell_type": "code",
      "source": [
        "#Padronizando os dados binários\n",
        "for coluna in dadosTratados.columns:\n",
        "    if coluna != 'NU_IDADE_N':\n",
        "        dadosTratados.loc[dadosTratados[coluna] == 2, coluna] = 0\n",
        "        print(dadosTratados.groupby(coluna).size())"
      ],
      "metadata": {
        "id": "1_9LyiB8P-Lt",
        "colab": {
          "base_uri": "https://localhost:8080/"
        },
        "outputId": "91d166a3-e53c-4b21-c368-6500c05df7c0"
      },
      "execution_count": null,
      "outputs": [
        {
          "output_type": "stream",
          "name": "stdout",
          "text": [
            "CS_GESTANT\n",
            "0    7129\n",
            "1      73\n",
            "dtype: int64\n",
            "CARDIOPATI\n",
            "0    3632\n",
            "1    3570\n",
            "dtype: int64\n",
            "HEMATOLOGI\n",
            "0    7029\n",
            "1     173\n",
            "dtype: int64\n",
            "HEPATICA\n",
            "0    7069\n",
            "1     133\n",
            "dtype: int64\n",
            "DIABETES\n",
            "0    4906\n",
            "1    2296\n",
            "dtype: int64\n",
            "NEUROLOGIC\n",
            "0    6291\n",
            "1     911\n",
            "dtype: int64\n",
            "PNEUMOPATI\n",
            "0    6496\n",
            "1     706\n",
            "dtype: int64\n",
            "IMUNODEPRE\n",
            "0    6618\n",
            "1     584\n",
            "dtype: int64\n",
            "RENAL\n",
            "0    6622\n",
            "1     580\n",
            "dtype: int64\n",
            "OBESIDADE\n",
            "0    6699\n",
            "1     503\n",
            "dtype: int64\n",
            "VACINA_COV\n",
            "0     767\n",
            "1    6435\n",
            "dtype: int64\n",
            "CLASSI_FIN\n",
            "5    7202\n",
            "dtype: int64\n",
            "EVOLUCAO\n",
            "0    1978\n",
            "1    5224\n",
            "dtype: int64\n"
          ]
        },
        {
          "output_type": "stream",
          "name": "stderr",
          "text": [
            "<ipython-input-141-e6a52711faba>:4: SettingWithCopyWarning: \n",
            "A value is trying to be set on a copy of a slice from a DataFrame\n",
            "\n",
            "See the caveats in the documentation: https://pandas.pydata.org/pandas-docs/stable/user_guide/indexing.html#returning-a-view-versus-a-copy\n",
            "  dadosTratados.loc[dadosTratados[coluna] == 2, coluna] = 0\n",
            "<ipython-input-141-e6a52711faba>:4: SettingWithCopyWarning: \n",
            "A value is trying to be set on a copy of a slice from a DataFrame\n",
            "\n",
            "See the caveats in the documentation: https://pandas.pydata.org/pandas-docs/stable/user_guide/indexing.html#returning-a-view-versus-a-copy\n",
            "  dadosTratados.loc[dadosTratados[coluna] == 2, coluna] = 0\n",
            "<ipython-input-141-e6a52711faba>:4: SettingWithCopyWarning: \n",
            "A value is trying to be set on a copy of a slice from a DataFrame\n",
            "\n",
            "See the caveats in the documentation: https://pandas.pydata.org/pandas-docs/stable/user_guide/indexing.html#returning-a-view-versus-a-copy\n",
            "  dadosTratados.loc[dadosTratados[coluna] == 2, coluna] = 0\n",
            "<ipython-input-141-e6a52711faba>:4: SettingWithCopyWarning: \n",
            "A value is trying to be set on a copy of a slice from a DataFrame\n",
            "\n",
            "See the caveats in the documentation: https://pandas.pydata.org/pandas-docs/stable/user_guide/indexing.html#returning-a-view-versus-a-copy\n",
            "  dadosTratados.loc[dadosTratados[coluna] == 2, coluna] = 0\n",
            "<ipython-input-141-e6a52711faba>:4: SettingWithCopyWarning: \n",
            "A value is trying to be set on a copy of a slice from a DataFrame\n",
            "\n",
            "See the caveats in the documentation: https://pandas.pydata.org/pandas-docs/stable/user_guide/indexing.html#returning-a-view-versus-a-copy\n",
            "  dadosTratados.loc[dadosTratados[coluna] == 2, coluna] = 0\n",
            "<ipython-input-141-e6a52711faba>:4: SettingWithCopyWarning: \n",
            "A value is trying to be set on a copy of a slice from a DataFrame\n",
            "\n",
            "See the caveats in the documentation: https://pandas.pydata.org/pandas-docs/stable/user_guide/indexing.html#returning-a-view-versus-a-copy\n",
            "  dadosTratados.loc[dadosTratados[coluna] == 2, coluna] = 0\n",
            "<ipython-input-141-e6a52711faba>:4: SettingWithCopyWarning: \n",
            "A value is trying to be set on a copy of a slice from a DataFrame\n",
            "\n",
            "See the caveats in the documentation: https://pandas.pydata.org/pandas-docs/stable/user_guide/indexing.html#returning-a-view-versus-a-copy\n",
            "  dadosTratados.loc[dadosTratados[coluna] == 2, coluna] = 0\n",
            "<ipython-input-141-e6a52711faba>:4: SettingWithCopyWarning: \n",
            "A value is trying to be set on a copy of a slice from a DataFrame\n",
            "\n",
            "See the caveats in the documentation: https://pandas.pydata.org/pandas-docs/stable/user_guide/indexing.html#returning-a-view-versus-a-copy\n",
            "  dadosTratados.loc[dadosTratados[coluna] == 2, coluna] = 0\n",
            "<ipython-input-141-e6a52711faba>:4: SettingWithCopyWarning: \n",
            "A value is trying to be set on a copy of a slice from a DataFrame\n",
            "\n",
            "See the caveats in the documentation: https://pandas.pydata.org/pandas-docs/stable/user_guide/indexing.html#returning-a-view-versus-a-copy\n",
            "  dadosTratados.loc[dadosTratados[coluna] == 2, coluna] = 0\n",
            "<ipython-input-141-e6a52711faba>:4: SettingWithCopyWarning: \n",
            "A value is trying to be set on a copy of a slice from a DataFrame\n",
            "\n",
            "See the caveats in the documentation: https://pandas.pydata.org/pandas-docs/stable/user_guide/indexing.html#returning-a-view-versus-a-copy\n",
            "  dadosTratados.loc[dadosTratados[coluna] == 2, coluna] = 0\n",
            "<ipython-input-141-e6a52711faba>:4: SettingWithCopyWarning: \n",
            "A value is trying to be set on a copy of a slice from a DataFrame\n",
            "\n",
            "See the caveats in the documentation: https://pandas.pydata.org/pandas-docs/stable/user_guide/indexing.html#returning-a-view-versus-a-copy\n",
            "  dadosTratados.loc[dadosTratados[coluna] == 2, coluna] = 0\n",
            "<ipython-input-141-e6a52711faba>:4: SettingWithCopyWarning: \n",
            "A value is trying to be set on a copy of a slice from a DataFrame\n",
            "\n",
            "See the caveats in the documentation: https://pandas.pydata.org/pandas-docs/stable/user_guide/indexing.html#returning-a-view-versus-a-copy\n",
            "  dadosTratados.loc[dadosTratados[coluna] == 2, coluna] = 0\n",
            "<ipython-input-141-e6a52711faba>:4: SettingWithCopyWarning: \n",
            "A value is trying to be set on a copy of a slice from a DataFrame\n",
            "\n",
            "See the caveats in the documentation: https://pandas.pydata.org/pandas-docs/stable/user_guide/indexing.html#returning-a-view-versus-a-copy\n",
            "  dadosTratados.loc[dadosTratados[coluna] == 2, coluna] = 0\n"
          ]
        }
      ]
    },
    {
      "cell_type": "code",
      "source": [
        "#Verificando correlação entre as variáveis\n",
        "correlacao = dadosTratados.corr()\n",
        "correlacao\n",
        "plt.rc('figure', figsize = (12,6))\n",
        "ax = sns.heatmap(correlacao, cmap ='RdBu', annot = True)"
      ],
      "metadata": {
        "id": "GeDchad_QFrN",
        "colab": {
          "base_uri": "https://localhost:8080/",
          "height": 410
        },
        "outputId": "8376d22a-e8d6-4964-be7b-1e836a4120ad"
      },
      "execution_count": null,
      "outputs": [
        {
          "output_type": "display_data",
          "data": {
            "text/plain": [
              "<Figure size 1200x600 with 2 Axes>"
            ],
            "image/png": "[encoded data removed]"
          },
          "metadata": {}
        }
      ]
    },
    {
      "cell_type": "markdown",
      "source": [
        "# Pré-processamento"
      ],
      "metadata": {
        "id": "MoGD-6ICRRVZ"
      }
    },
    {
      "cell_type": "code",
      "source": [
        "#As classes estão desbalanceadas\n",
        "counts = (dadosTratados['EVOLUCAO'].value_counts())\n",
        "print(counts)\n",
        "\n",
        "plt.bar(counts.index, counts.values)\n",
        "plt.xlabel(\"EVOLUCAO\")\n",
        "plt.ylabel(\"Contagem\")"
      ],
      "metadata": {
        "id": "OG5pLz0YP2Rb",
        "colab": {
          "base_uri": "https://localhost:8080/",
          "height": 421
        },
        "outputId": "0fb1c65d-f173-4933-f936-56d6765cb594"
      },
      "execution_count": null,
      "outputs": [
        {
          "output_type": "stream",
          "name": "stdout",
          "text": [
            "1    5224\n",
            "0    1978\n",
            "Name: EVOLUCAO, dtype: int64\n"
          ]
        },
        {
          "output_type": "execute_result",
          "data": {
            "text/plain": [
              "Text(0, 0.5, 'Contagem')"
            ]
          },
          "metadata": {},
          "execution_count": 143
        },
        {
          "output_type": "display_data",
          "data": {
            "text/plain": [
              "<Figure size 1200x600 with 1 Axes>"
            ],
            "image/png": "[encoded data removed]"
          },
          "metadata": {}
        }
      ]
    },
    {
      "cell_type": "code",
      "source": [
        "X = dadosTratados.drop(['EVOLUCAO', 'CLASSI_FIN'], axis =1)\n",
        "y = dadosTratados.EVOLUCAO"
      ],
      "metadata": {
        "id": "2-FZslIqlwkR"
      },
      "execution_count": null,
      "outputs": []
    },
    {
      "cell_type": "code",
      "source": [
        "#Separando em treino e teste\n",
        "X_treino, X_teste, y_treino, y_teste =   train_test_split(X, y, random_state = 42)"
      ],
      "metadata": {
        "id": "ZYidn_qMl8U5"
      },
      "execution_count": null,
      "outputs": []
    },
    {
      "cell_type": "code",
      "source": [
        "#Resolvendo undersampling através da seleção de amostras que têm menor média de distância para os k vizinhos mais próximos da classe minoritária\n",
        "from imblearn.under_sampling import NearMiss\n",
        "undersampler = NearMiss(version = 1, n_neighbors = 3)\n",
        "X_smote, y_smote = undersampler.fit_resample(X_treino, y_treino)"
      ],
      "metadata": {
        "id": "MFai5CUVqBY7"
      },
      "execution_count": null,
      "outputs": []
    },
    {
      "cell_type": "code",
      "source": [
        "X = X_smote\n",
        "y = y_smote"
      ],
      "metadata": {
        "id": "Ps_7CNYPqg42"
      },
      "execution_count": null,
      "outputs": []
    },
    {
      "cell_type": "code",
      "source": [
        "X_treino, X_teste, y_treino, y_teste =   train_test_split(X, y, random_state = 42)"
      ],
      "metadata": {
        "id": "ZsJ9aNeP2QGW"
      },
      "execution_count": null,
      "outputs": []
    },
    {
      "cell_type": "code",
      "source": [
        "#Verificando a nova distribuição\n",
        "from collections import Counter\n",
        "\n",
        "counts = Counter(y_smote)\n",
        "print(counts)\n",
        "\n",
        "plt.bar(counts.keys(), counts.values())\n",
        "plt.xlabel(\"EVOLUCAO\")\n",
        "plt.ylabel(\"Contagem\")\n",
        "plt.show()\n"
      ],
      "metadata": {
        "colab": {
          "base_uri": "https://localhost:8080/",
          "height": 369
        },
        "id": "T63eslEMS4ts",
        "outputId": "a09dfc15-db47-4206-ec8d-336fc27730e9"
      },
      "execution_count": null,
      "outputs": [
        {
          "output_type": "stream",
          "name": "stdout",
          "text": [
            "Counter({0: 1455, 1: 1455})\n"
          ]
        },
        {
          "output_type": "display_data",
          "data": {
            "text/plain": [
              "<Figure size 1200x600 with 1 Axes>"
            ],
            "image/png": "[encoded data removed]"
          },
          "metadata": {}
        }
      ]
    },
    {
      "cell_type": "markdown",
      "source": [
        "# Treinando modelos\n"
      ],
      "metadata": {
        "id": "k5adEafedSqP"
      }
    },
    {
      "cell_type": "markdown",
      "source": [
        "MLPClassifier - Rede Neural"
      ],
      "metadata": {
        "id": "Z2LHsrIwgAfa"
      }
    },
    {
      "cell_type": "code",
      "source": [
        "modelo1 = MLPClassifier(activation = 'relu', hidden_layer_sizes=(15,10,5), learning_rate = 'constant', max_iter = 150, solver = 'adam')\n",
        "modelo1.fit(X_treino, y_treino)"
      ],
      "metadata": {
        "id": "7DmEtud_iAqI",
        "colab": {
          "base_uri": "https://localhost:8080/",
          "height": 129
        },
        "outputId": "af65e6de-2dc8-4e55-8f91-71f757ffce39"
      },
      "execution_count": null,
      "outputs": [
        {
          "output_type": "stream",
          "name": "stderr",
          "text": [
            "/usr/local/lib/python3.10/dist-packages/sklearn/neural_network/_multilayer_perceptron.py:686: ConvergenceWarning: Stochastic Optimizer: Maximum iterations (150) reached and the optimization hasn't converged yet.\n",
            "  warnings.warn(\n"
          ]
        },
        {
          "output_type": "execute_result",
          "data": {
            "text/plain": [
              "MLPClassifier(hidden_layer_sizes=(15, 10, 5), max_iter=150)"
            ],
            "text/html": [
              "<style>#sk-container-id-9 {color: black;background-color: white;}#sk-container-id-9 pre{padding: 0;}#sk-container-id-9 div.sk-toggleable {background-color: white;}#sk-container-id-9 label.sk-toggleable__label {cursor: pointer;display: block;width: 100%;margin-bottom: 0;padding: 0.3em;box-sizing: border-box;text-align: center;}#sk-container-id-9 label.sk-toggleable__label-arrow:before {content: \"▸\";float: left;margin-right: 0.25em;color: #696969;}#sk-container-id-9 label.sk-toggleable__label-arrow:hover:before {color: black;}#sk-container-id-9 div.sk-estimator:hover label.sk-toggleable__label-arrow:before {color: black;}#sk-container-id-9 div.sk-toggleable__content {max-height: 0;max-width: 0;overflow: hidden;text-align: left;background-color: #f0f8ff;}#sk-container-id-9 div.sk-toggleable__content pre {margin: 0.2em;color: black;border-radius: 0.25em;background-color: #f0f8ff;}#sk-container-id-9 input.sk-toggleable__control:checked~div.sk-toggleable__content {max-height: 200px;max-width: 100%;overflow: auto;}#sk-container-id-9 input.sk-toggleable__control:checked~label.sk-toggleable__label-arrow:before {content: \"▾\";}#sk-container-id-9 div.sk-estimator input.sk-toggleable__control:checked~label.sk-toggleable__label {background-color: #d4ebff;}#sk-container-id-9 div.sk-label input.sk-toggleable__control:checked~label.sk-toggleable__label {background-color: #d4ebff;}#sk-container-id-9 input.sk-hidden--visually {border: 0;clip: rect(1px 1px 1px 1px);clip: rect(1px, 1px, 1px, 1px);height: 1px;margin: -1px;overflow: hidden;padding: 0;position: absolute;width: 1px;}#sk-container-id-9 div.sk-estimator {font-family: monospace;background-color: #f0f8ff;border: 1px dotted black;border-radius: 0.25em;box-sizing: border-box;margin-bottom: 0.5em;}#sk-container-id-9 div.sk-estimator:hover {background-color: #d4ebff;}#sk-container-id-9 div.sk-parallel-item::after {content: \"\";width: 100%;border-bottom: 1px solid gray;flex-grow: 1;}#sk-container-id-9 div.sk-label:hover label.sk-toggleable__label {background-color: #d4ebff;}#sk-container-id-9 div.sk-serial::before {content: \"\";position: absolute;border-left: 1px solid gray;box-sizing: border-box;top: 0;bottom: 0;left: 50%;z-index: 0;}#sk-container-id-9 div.sk-serial {display: flex;flex-direction: column;align-items: center;background-color: white;padding-right: 0.2em;padding-left: 0.2em;position: relative;}#sk-container-id-9 div.sk-item {position: relative;z-index: 1;}#sk-container-id-9 div.sk-parallel {display: flex;align-items: stretch;justify-content: center;background-color: white;position: relative;}#sk-container-id-9 div.sk-item::before, #sk-container-id-9 div.sk-parallel-item::before {content: \"\";position: absolute;border-left: 1px solid gray;box-sizing: border-box;top: 0;bottom: 0;left: 50%;z-index: -1;}#sk-container-id-9 div.sk-parallel-item {display: flex;flex-direction: column;z-index: 1;position: relative;background-color: white;}#sk-container-id-9 div.sk-parallel-item:first-child::after {align-self: flex-end;width: 50%;}#sk-container-id-9 div.sk-parallel-item:last-child::after {align-self: flex-start;width: 50%;}#sk-container-id-9 div.sk-parallel-item:only-child::after {width: 0;}#sk-container-id-9 div.sk-dashed-wrapped {border: 1px dashed gray;margin: 0 0.4em 0.5em 0.4em;box-sizing: border-box;padding-bottom: 0.4em;background-color: white;}#sk-container-id-9 div.sk-label label {font-family: monospace;font-weight: bold;display: inline-block;line-height: 1.2em;}#sk-container-id-9 div.sk-label-container {text-align: center;}#sk-container-id-9 div.sk-container {/* jupyter's `normalize.less` sets `[hidden] { display: none; }` but bootstrap.min.css set `[hidden] { display: none !important; }` so we also need the `!important` here to be able to override the default hidden behavior on the sphinx rendered scikit-learn.org. See: https://github.com/scikit-learn/scikit-learn/issues/21755 */display: inline-block !important;position: relative;}#sk-container-id-9 div.sk-text-repr-fallback {display: none;}</style><div id=\"sk-container-id-9\" class=\"sk-top-container\"><div class=\"sk-text-repr-fallback\"><pre>MLPClassifier(hidden_layer_sizes=(15, 10, 5), max_iter=150)</pre><b>In a Jupyter environment, please rerun this cell to show the HTML representation or trust the notebook. <br />On GitHub, the HTML representation is unable to render, please try loading this page with nbviewer.org.</b></div><div class=\"sk-container\" hidden><div class=\"sk-item\"><div class=\"sk-estimator sk-toggleable\"><input class=\"sk-toggleable__control sk-hidden--visually\" id=\"sk-estimator-id-9\" type=\"checkbox\" checked><label for=\"sk-estimator-id-9\" class=\"sk-toggleable__label sk-toggleable__label-arrow\">MLPClassifier</label><div class=\"sk-toggleable__content\"><pre>MLPClassifier(hidden_layer_sizes=(15, 10, 5), max_iter=150)</pre></div></div></div></div></div>"
            ]
          },
          "metadata": {},
          "execution_count": 150
        }
      ]
    },
    {
      "cell_type": "code",
      "source": [
        "lr_predict_train = modelo1.predict(X_treino)\n",
        "ac_lr_train = accuracy_score(y_treino, lr_predict_train)\n",
        "print(\"Acurácia: \", ac_lr_train)"
      ],
      "metadata": {
        "id": "XxJmNPf5iSvO",
        "colab": {
          "base_uri": "https://localhost:8080/"
        },
        "outputId": "b454e9b3-fe79-493a-d127-0f86ed8581c7"
      },
      "execution_count": null,
      "outputs": [
        {
          "output_type": "stream",
          "name": "stdout",
          "text": [
            "Acurácia:  0.7254812098991751\n"
          ]
        }
      ]
    },
    {
      "cell_type": "code",
      "source": [
        "lr_predict_test = modelo1.predict(X_teste)\n",
        "ac_lr_test = accuracy_score(y_teste, lr_predict_test)\n",
        "print(\"Acurácia: \", ac_lr_test)"
      ],
      "metadata": {
        "id": "6OiElv8Aidgz",
        "colab": {
          "base_uri": "https://localhost:8080/"
        },
        "outputId": "b0d42904-0540-4acb-8ae0-d9e2feaef269"
      },
      "execution_count": null,
      "outputs": [
        {
          "output_type": "stream",
          "name": "stdout",
          "text": [
            "Acurácia:  0.7321428571428571\n"
          ]
        }
      ]
    },
    {
      "cell_type": "code",
      "source": [
        "print(\"Classification Report\")\n",
        "print(classification_report(y_teste, lr_predict_test))"
      ],
      "metadata": {
        "id": "7bk1a--Xiigp",
        "colab": {
          "base_uri": "https://localhost:8080/"
        },
        "outputId": "3be52471-6367-40d7-9d6d-925f3d17aecf"
      },
      "execution_count": null,
      "outputs": [
        {
          "output_type": "stream",
          "name": "stdout",
          "text": [
            "Classification Report\n",
            "              precision    recall  f1-score   support\n",
            "\n",
            "           0       0.91      0.53      0.67       377\n",
            "           1       0.65      0.95      0.77       351\n",
            "\n",
            "    accuracy                           0.73       728\n",
            "   macro avg       0.78      0.74      0.72       728\n",
            "weighted avg       0.79      0.73      0.72       728\n",
            "\n"
          ]
        }
      ]
    },
    {
      "cell_type": "markdown",
      "source": [
        "Regressão Logística"
      ],
      "metadata": {
        "id": "r5BDjJzpglqj"
      }
    },
    {
      "cell_type": "code",
      "source": [
        "modelo_2 = LogisticRegression(random_state = 5, max_iter = 1000, penalty = 'l2')\n",
        "modelo_2.fit(X_treino, y_treino.ravel())"
      ],
      "metadata": {
        "id": "1f3vBQy6Qgvd",
        "colab": {
          "base_uri": "https://localhost:8080/",
          "height": 74
        },
        "outputId": "6a6fa546-6516-4eba-c5c0-104617f069b1"
      },
      "execution_count": null,
      "outputs": [
        {
          "output_type": "execute_result",
          "data": {
            "text/plain": [
              "LogisticRegression(max_iter=1000, random_state=5)"
            ],
            "text/html": [
              "<style>#sk-container-id-10 {color: black;background-color: white;}#sk-container-id-10 pre{padding: 0;}#sk-container-id-10 div.sk-toggleable {background-color: white;}#sk-container-id-10 label.sk-toggleable__label {cursor: pointer;display: block;width: 100%;margin-bottom: 0;padding: 0.3em;box-sizing: border-box;text-align: center;}#sk-container-id-10 label.sk-toggleable__label-arrow:before {content: \"▸\";float: left;margin-right: 0.25em;color: #696969;}#sk-container-id-10 label.sk-toggleable__label-arrow:hover:before {color: black;}#sk-container-id-10 div.sk-estimator:hover label.sk-toggleable__label-arrow:before {color: black;}#sk-container-id-10 div.sk-toggleable__content {max-height: 0;max-width: 0;overflow: hidden;text-align: left;background-color: #f0f8ff;}#sk-container-id-10 div.sk-toggleable__content pre {margin: 0.2em;color: black;border-radius: 0.25em;background-color: #f0f8ff;}#sk-container-id-10 input.sk-toggleable__control:checked~div.sk-toggleable__content {max-height: 200px;max-width: 100%;overflow: auto;}#sk-container-id-10 input.sk-toggleable__control:checked~label.sk-toggleable__label-arrow:before {content: \"▾\";}#sk-container-id-10 div.sk-estimator input.sk-toggleable__control:checked~label.sk-toggleable__label {background-color: #d4ebff;}#sk-container-id-10 div.sk-label input.sk-toggleable__control:checked~label.sk-toggleable__label {background-color: #d4ebff;}#sk-container-id-10 input.sk-hidden--visually {border: 0;clip: rect(1px 1px 1px 1px);clip: rect(1px, 1px, 1px, 1px);height: 1px;margin: -1px;overflow: hidden;padding: 0;position: absolute;width: 1px;}#sk-container-id-10 div.sk-estimator {font-family: monospace;background-color: #f0f8ff;border: 1px dotted black;border-radius: 0.25em;box-sizing: border-box;margin-bottom: 0.5em;}#sk-container-id-10 div.sk-estimator:hover {background-color: #d4ebff;}#sk-container-id-10 div.sk-parallel-item::after {content: \"\";width: 100%;border-bottom: 1px solid gray;flex-grow: 1;}#sk-container-id-10 div.sk-label:hover label.sk-toggleable__label {background-color: #d4ebff;}#sk-container-id-10 div.sk-serial::before {content: \"\";position: absolute;border-left: 1px solid gray;box-sizing: border-box;top: 0;bottom: 0;left: 50%;z-index: 0;}#sk-container-id-10 div.sk-serial {display: flex;flex-direction: column;align-items: center;background-color: white;padding-right: 0.2em;padding-left: 0.2em;position: relative;}#sk-container-id-10 div.sk-item {position: relative;z-index: 1;}#sk-container-id-10 div.sk-parallel {display: flex;align-items: stretch;justify-content: center;background-color: white;position: relative;}#sk-container-id-10 div.sk-item::before, #sk-container-id-10 div.sk-parallel-item::before {content: \"\";position: absolute;border-left: 1px solid gray;box-sizing: border-box;top: 0;bottom: 0;left: 50%;z-index: -1;}#sk-container-id-10 div.sk-parallel-item {display: flex;flex-direction: column;z-index: 1;position: relative;background-color: white;}#sk-container-id-10 div.sk-parallel-item:first-child::after {align-self: flex-end;width: 50%;}#sk-container-id-10 div.sk-parallel-item:last-child::after {align-self: flex-start;width: 50%;}#sk-container-id-10 div.sk-parallel-item:only-child::after {width: 0;}#sk-container-id-10 div.sk-dashed-wrapped {border: 1px dashed gray;margin: 0 0.4em 0.5em 0.4em;box-sizing: border-box;padding-bottom: 0.4em;background-color: white;}#sk-container-id-10 div.sk-label label {font-family: monospace;font-weight: bold;display: inline-block;line-height: 1.2em;}#sk-container-id-10 div.sk-label-container {text-align: center;}#sk-container-id-10 div.sk-container {/* jupyter's `normalize.less` sets `[hidden] { display: none; }` but bootstrap.min.css set `[hidden] { display: none !important; }` so we also need the `!important` here to be able to override the default hidden behavior on the sphinx rendered scikit-learn.org. See: https://github.com/scikit-learn/scikit-learn/issues/21755 */display: inline-block !important;position: relative;}#sk-container-id-10 div.sk-text-repr-fallback {display: none;}</style><div id=\"sk-container-id-10\" class=\"sk-top-container\"><div class=\"sk-text-repr-fallback\"><pre>LogisticRegression(max_iter=1000, random_state=5)</pre><b>In a Jupyter environment, please rerun this cell to show the HTML representation or trust the notebook. <br />On GitHub, the HTML representation is unable to render, please try loading this page with nbviewer.org.</b></div><div class=\"sk-container\" hidden><div class=\"sk-item\"><div class=\"sk-estimator sk-toggleable\"><input class=\"sk-toggleable__control sk-hidden--visually\" id=\"sk-estimator-id-10\" type=\"checkbox\" checked><label for=\"sk-estimator-id-10\" class=\"sk-toggleable__label sk-toggleable__label-arrow\">LogisticRegression</label><div class=\"sk-toggleable__content\"><pre>LogisticRegression(max_iter=1000, random_state=5)</pre></div></div></div></div></div>"
            ]
          },
          "metadata": {},
          "execution_count": 154
        }
      ]
    },
    {
      "cell_type": "code",
      "source": [
        "lr_predict_train = modelo_2.predict(X_treino)\n",
        "ac_lr_train = accuracy_score(y_treino, lr_predict_train)\n",
        "print(\"Acurácia: \", ac_lr_train)"
      ],
      "metadata": {
        "id": "QUy3TFy1Qhmt",
        "colab": {
          "base_uri": "https://localhost:8080/"
        },
        "outputId": "6a2a95d9-4f1d-4778-a448-39db2be7795b"
      },
      "execution_count": null,
      "outputs": [
        {
          "output_type": "stream",
          "name": "stdout",
          "text": [
            "Acurácia:  0.7222731439046746\n"
          ]
        }
      ]
    },
    {
      "cell_type": "code",
      "source": [
        "lr_predict_test = modelo_2.predict(X_teste)\n",
        "ac_lr_test = accuracy_score(y_teste, lr_predict_test)\n",
        "print(\"Acurácia: \", ac_lr_test)"
      ],
      "metadata": {
        "id": "voP-i4cCQj2T",
        "colab": {
          "base_uri": "https://localhost:8080/"
        },
        "outputId": "f4c4ecc8-580b-462b-c792-02326238d13e"
      },
      "execution_count": null,
      "outputs": [
        {
          "output_type": "stream",
          "name": "stdout",
          "text": [
            "Acurácia:  0.7307692307692307\n"
          ]
        }
      ]
    },
    {
      "cell_type": "code",
      "source": [
        "print(\"Classification Report\")\n",
        "print(classification_report(y_teste, lr_predict_test))"
      ],
      "metadata": {
        "id": "g8zTXJbQQmD1",
        "colab": {
          "base_uri": "https://localhost:8080/"
        },
        "outputId": "8a186d6e-c130-4b22-f67a-1673e8bc0c29"
      },
      "execution_count": null,
      "outputs": [
        {
          "output_type": "stream",
          "name": "stdout",
          "text": [
            "Classification Report\n",
            "              precision    recall  f1-score   support\n",
            "\n",
            "           0       0.90      0.54      0.67       377\n",
            "           1       0.65      0.94      0.77       351\n",
            "\n",
            "    accuracy                           0.73       728\n",
            "   macro avg       0.78      0.74      0.72       728\n",
            "weighted avg       0.78      0.73      0.72       728\n",
            "\n"
          ]
        }
      ]
    },
    {
      "cell_type": "markdown",
      "source": [
        "Random Forest - Classificação"
      ],
      "metadata": {
        "id": "f8rHAin8g8i5"
      }
    },
    {
      "cell_type": "code",
      "source": [
        "modelo_3 = RandomForestClassifier(random_state = 123)\n",
        "modelo_3.fit(X_treino, y_treino)"
      ],
      "metadata": {
        "id": "AcLZLTTTuZg9",
        "colab": {
          "base_uri": "https://localhost:8080/",
          "height": 74
        },
        "outputId": "e4b6b635-e49c-4bf9-b92e-3694c83a0779"
      },
      "execution_count": null,
      "outputs": [
        {
          "output_type": "execute_result",
          "data": {
            "text/plain": [
              "RandomForestClassifier(random_state=123)"
            ],
            "text/html": [
              "<style>#sk-container-id-11 {color: black;background-color: white;}#sk-container-id-11 pre{padding: 0;}#sk-container-id-11 div.sk-toggleable {background-color: white;}#sk-container-id-11 label.sk-toggleable__label {cursor: pointer;display: block;width: 100%;margin-bottom: 0;padding: 0.3em;box-sizing: border-box;text-align: center;}#sk-container-id-11 label.sk-toggleable__label-arrow:before {content: \"▸\";float: left;margin-right: 0.25em;color: #696969;}#sk-container-id-11 label.sk-toggleable__label-arrow:hover:before {color: black;}#sk-container-id-11 div.sk-estimator:hover label.sk-toggleable__label-arrow:before {color: black;}#sk-container-id-11 div.sk-toggleable__content {max-height: 0;max-width: 0;overflow: hidden;text-align: left;background-color: #f0f8ff;}#sk-container-id-11 div.sk-toggleable__content pre {margin: 0.2em;color: black;border-radius: 0.25em;background-color: #f0f8ff;}#sk-container-id-11 input.sk-toggleable__control:checked~div.sk-toggleable__content {max-height: 200px;max-width: 100%;overflow: auto;}#sk-container-id-11 input.sk-toggleable__control:checked~label.sk-toggleable__label-arrow:before {content: \"▾\";}#sk-container-id-11 div.sk-estimator input.sk-toggleable__control:checked~label.sk-toggleable__label {background-color: #d4ebff;}#sk-container-id-11 div.sk-label input.sk-toggleable__control:checked~label.sk-toggleable__label {background-color: #d4ebff;}#sk-container-id-11 input.sk-hidden--visually {border: 0;clip: rect(1px 1px 1px 1px);clip: rect(1px, 1px, 1px, 1px);height: 1px;margin: -1px;overflow: hidden;padding: 0;position: absolute;width: 1px;}#sk-container-id-11 div.sk-estimator {font-family: monospace;background-color: #f0f8ff;border: 1px dotted black;border-radius: 0.25em;box-sizing: border-box;margin-bottom: 0.5em;}#sk-container-id-11 div.sk-estimator:hover {background-color: #d4ebff;}#sk-container-id-11 div.sk-parallel-item::after {content: \"\";width: 100%;border-bottom: 1px solid gray;flex-grow: 1;}#sk-container-id-11 div.sk-label:hover label.sk-toggleable__label {background-color: #d4ebff;}#sk-container-id-11 div.sk-serial::before {content: \"\";position: absolute;border-left: 1px solid gray;box-sizing: border-box;top: 0;bottom: 0;left: 50%;z-index: 0;}#sk-container-id-11 div.sk-serial {display: flex;flex-direction: column;align-items: center;background-color: white;padding-right: 0.2em;padding-left: 0.2em;position: relative;}#sk-container-id-11 div.sk-item {position: relative;z-index: 1;}#sk-container-id-11 div.sk-parallel {display: flex;align-items: stretch;justify-content: center;background-color: white;position: relative;}#sk-container-id-11 div.sk-item::before, #sk-container-id-11 div.sk-parallel-item::before {content: \"\";position: absolute;border-left: 1px solid gray;box-sizing: border-box;top: 0;bottom: 0;left: 50%;z-index: -1;}#sk-container-id-11 div.sk-parallel-item {display: flex;flex-direction: column;z-index: 1;position: relative;background-color: white;}#sk-container-id-11 div.sk-parallel-item:first-child::after {align-self: flex-end;width: 50%;}#sk-container-id-11 div.sk-parallel-item:last-child::after {align-self: flex-start;width: 50%;}#sk-container-id-11 div.sk-parallel-item:only-child::after {width: 0;}#sk-container-id-11 div.sk-dashed-wrapped {border: 1px dashed gray;margin: 0 0.4em 0.5em 0.4em;box-sizing: border-box;padding-bottom: 0.4em;background-color: white;}#sk-container-id-11 div.sk-label label {font-family: monospace;font-weight: bold;display: inline-block;line-height: 1.2em;}#sk-container-id-11 div.sk-label-container {text-align: center;}#sk-container-id-11 div.sk-container {/* jupyter's `normalize.less` sets `[hidden] { display: none; }` but bootstrap.min.css set `[hidden] { display: none !important; }` so we also need the `!important` here to be able to override the default hidden behavior on the sphinx rendered scikit-learn.org. See: https://github.com/scikit-learn/scikit-learn/issues/21755 */display: inline-block !important;position: relative;}#sk-container-id-11 div.sk-text-repr-fallback {display: none;}</style><div id=\"sk-container-id-11\" class=\"sk-top-container\"><div class=\"sk-text-repr-fallback\"><pre>RandomForestClassifier(random_state=123)</pre><b>In a Jupyter environment, please rerun this cell to show the HTML representation or trust the notebook. <br />On GitHub, the HTML representation is unable to render, please try loading this page with nbviewer.org.</b></div><div class=\"sk-container\" hidden><div class=\"sk-item\"><div class=\"sk-estimator sk-toggleable\"><input class=\"sk-toggleable__control sk-hidden--visually\" id=\"sk-estimator-id-11\" type=\"checkbox\" checked><label for=\"sk-estimator-id-11\" class=\"sk-toggleable__label sk-toggleable__label-arrow\">RandomForestClassifier</label><div class=\"sk-toggleable__content\"><pre>RandomForestClassifier(random_state=123)</pre></div></div></div></div></div>"
            ]
          },
          "metadata": {},
          "execution_count": 158
        }
      ]
    },
    {
      "cell_type": "code",
      "source": [
        "rf_predict_train = modelo_3.predict(X_treino)\n",
        "ac_rf_train = accuracy_score(y_treino, rf_predict_train)\n",
        "print(\"Acurácia: \", ac_rf_train)"
      ],
      "metadata": {
        "id": "lm2TyNctuc96",
        "colab": {
          "base_uri": "https://localhost:8080/"
        },
        "outputId": "b19745b5-e996-4bcc-a4fa-58266bbdfbef"
      },
      "execution_count": null,
      "outputs": [
        {
          "output_type": "stream",
          "name": "stdout",
          "text": [
            "Acurácia:  0.7740604949587534\n"
          ]
        }
      ]
    },
    {
      "cell_type": "code",
      "source": [
        "rf_predict_test = modelo_3.predict(X_teste)\n",
        "ac_rf_test = accuracy_score(y_teste, rf_predict_test)\n",
        "print(\"Acurácia: \", ac_rf_test)\n"
      ],
      "metadata": {
        "id": "OGsPYzmauguJ",
        "colab": {
          "base_uri": "https://localhost:8080/"
        },
        "outputId": "8c7cabb3-46c4-43e2-d4ae-038c8546775c"
      },
      "execution_count": null,
      "outputs": [
        {
          "output_type": "stream",
          "name": "stdout",
          "text": [
            "Acurácia:  0.7115384615384616\n"
          ]
        }
      ]
    },
    {
      "cell_type": "code",
      "source": [
        "print(\"Classification Report\")\n",
        "print(classification_report(y_teste, rf_predict_test))"
      ],
      "metadata": {
        "id": "xnh-DY6kumFj",
        "colab": {
          "base_uri": "https://localhost:8080/"
        },
        "outputId": "af24cbfd-0dc7-4bf6-e630-f278a424ac71"
      },
      "execution_count": null,
      "outputs": [
        {
          "output_type": "stream",
          "name": "stdout",
          "text": [
            "Classification Report\n",
            "              precision    recall  f1-score   support\n",
            "\n",
            "           0       0.83      0.56      0.67       377\n",
            "           1       0.65      0.88      0.75       351\n",
            "\n",
            "    accuracy                           0.71       728\n",
            "   macro avg       0.74      0.72      0.71       728\n",
            "weighted avg       0.74      0.71      0.70       728\n",
            "\n"
          ]
        }
      ]
    },
    {
      "cell_type": "markdown",
      "source": [
        "# Testando melhor modelo"
      ],
      "metadata": {
        "id": "wxHt-qOmhUVc"
      }
    },
    {
      "cell_type": "code",
      "source": [
        "variaveis = ['NU_IDADE_N', 'CS_GESTANT', 'CARDIOPATI', 'HEMATOLOGI', 'HEPATICA', 'DIABETES', 'NEUROLOGIC', 'PNEUMOPATI',\n",
        "            'IMUNODEPRE', 'RENAL', 'OBESIDADE', 'VACINA_COV']"
      ],
      "metadata": {
        "id": "Wt5jr_8bhfg3"
      },
      "execution_count": null,
      "outputs": []
    },
    {
      "cell_type": "code",
      "source": [
        "#Testando o pior cenário\n",
        "NU_IDADE_N = int(input('Informe a idade do paciente: '))\n",
        "CS_GESTANT = int(input('Informe se o paciente é gestante: '))\n",
        "CARDIOPATI = int(input('Informe se o paciente tem problema cardíaco: '))\n",
        "HEMATOLOGI = int(input('Informe se o paciente tem problema hematológico: '))\n",
        "HEPATICA = int(input('Informe se o paciente tem problema hepático: '))\n",
        "DIABETES = int(input('Informe se o paciente tem diabetes: '))\n",
        "NEUROLOGIC = int(input('Informe se o paciente tem problema neurológico: '))\n",
        "PNEUMOPATI = int(input('Informe se o paciente tem problema penumático:: '))\n",
        "IMUNODEPRE = int(input('Informe se o paciente é imunodeprimido: '))\n",
        "RENAL = int(input('Informe se o paciente tem problema renal: '))\n",
        "OBESIDADE = int(input('Informe se o paciente tem obesidade: '))\n",
        "VACINA_COV = int(input('Informe se o paciente tomou a vacina: '))\n",
        "\n",
        "novo_paciente1 = [[NU_IDADE_N, CS_GESTANT, CARDIOPATI, HEMATOLOGI, HEPATICA, DIABETES, NEUROLOGIC, PNEUMOPATI,\n",
        "       IMUNODEPRE, RENAL, OBESIDADE, VACINA_COV]]"
      ],
      "metadata": {
        "id": "Eo9RPxxowfag",
        "colab": {
          "base_uri": "https://localhost:8080/"
        },
        "outputId": "1836c075-d2db-49f2-d998-71901beb87d9"
      },
      "execution_count": null,
      "outputs": [
        {
          "name": "stdout",
          "output_type": "stream",
          "text": [
            "Informe a idade do paciente: 30\n",
            "Informe se o paciente é gestante: 1\n",
            "Informe se o paciente tem problema cardíaco: 1\n",
            "Informe se o paciente tem problema hematológico: 1\n",
            "Informe se o paciente tem problema hepático: 1\n",
            "Informe se o paciente tem diabetes: 1\n",
            "Informe se o paciente tem problema neurológico: 1\n",
            "Informe se o paciente tem problema penumático:: 1\n",
            "Informe se o paciente é imunodeprimido: 1\n",
            "Informe se o paciente tem problema renal: 1\n",
            "Informe se o paciente tem obesidade: 1\n",
            "Informe se o paciente tomou a vacina: 0\n"
          ]
        }
      ]
    },
    {
      "cell_type": "code",
      "source": [
        "novo_paciente1 =  pd.DataFrame(novo_paciente1, columns = variaveis)\n",
        "resposta = modelo3.predict(novo_paciente1)\n",
        "for i in range(len(resposta)):\n",
        "  if resposta[i] == 1.0 :\n",
        "    print('Muita chance de ter uma boa evolução')\n",
        "  else:\n",
        "    print('Pouca chance de ter uma boa evolução')"
      ],
      "metadata": {
        "id": "Z4lXLgUmDpky",
        "colab": {
          "base_uri": "https://localhost:8080/"
        },
        "outputId": "42acb8b0-0ccd-4aed-afee-a60c8e66a3ff"
      },
      "execution_count": null,
      "outputs": [
        {
          "output_type": "stream",
          "name": "stdout",
          "text": [
            "Pouca chance de ter uma boa evolução\n"
          ]
        }
      ]
    },
    {
      "cell_type": "code",
      "source": [
        "#Testando o melhor cenário\n",
        "NU_IDADE_N = int(input('Informe a idade do paciente: '))\n",
        "CS_GESTANT = int(input('In2forme se o paciente é gestante: '))\n",
        "CARDIOPATI = int(input('Informe se o paciente tem problema cardíaco: '))\n",
        "HEMATOLOGI = int(input('Informe se o paciente tem problema hematológico: '))\n",
        "HEPATICA = int(input('Informe se o paciente tem problema hepático: '))\n",
        "DIABETES = int(input('Informe se o paciente tem diabetes: '))\n",
        "NEUROLOGIC = int(input('Informe se o paci2ente tem problema neurológico: '))\n",
        "PNEUMOPATI = int(input('Informe se o paciente tem problema penumático:: '))\n",
        "IMUNODEPRE = int(input('Informe se o paciente é imunodeprimido: '))\n",
        "RENAL = int(input('Informe se o paciente tem problema renal: '))\n",
        "OBESIDADE = int(input('Informe se o paciente tem obesidade: '))\n",
        "VACINA_COV = int(input('Informe se o paciente tomou a vacina: '))\n",
        "\n",
        "novo_paciente2 = [[NU_IDADE_N, CS_GESTANT, CARDIOPATI, HEMATOLOGI, HEPATICA, DIABETES, NEUROLOGIC, PNEUMOPATI,\n",
        "       IMUNODEPRE, RENAL, OBESIDADE, VACINA_COV]]"
      ],
      "metadata": {
        "id": "bNf6L5slE9ra",
        "colab": {
          "base_uri": "https://localhost:8080/"
        },
        "outputId": "b8865cdd-3d3e-4a05-92f0-a81f0c6b3b70"
      },
      "execution_count": null,
      "outputs": [
        {
          "name": "stdout",
          "output_type": "stream",
          "text": [
            "Informe a idade do paciente: 30\n",
            "In2forme se o paciente é gestante: 0\n",
            "Informe se o paciente tem problema cardíaco: 0\n",
            "Informe se o paciente tem problema hematológico: 0\n",
            "Informe se o paciente tem problema hepático: 0\n",
            "Informe se o paciente tem diabetes: 0\n",
            "Informe se o paci2ente tem problema neurológico: 0\n",
            "Informe se o paciente tem problema penumático:: 0\n",
            "Informe se o paciente é imunodeprimido: 0\n",
            "Informe se o paciente tem problema renal: 0\n",
            "Informe se o paciente tem obesidade: 0\n",
            "Informe se o paciente tomou a vacina: 1\n"
          ]
        }
      ]
    },
    {
      "cell_type": "code",
      "source": [
        "novo_paciente2 =  pd.DataFrame(novo_paciente2, columns = variaveis)\n",
        "resposta = modelo3.predict(novo_paciente2)\n",
        "for i in range(len(resposta)):\n",
        "  if resposta[i] == 1.0 :\n",
        "    print('Muita chance de ter uma boa evolução')\n",
        "  else:\n",
        "    print('Pouca chance de ter uma boa evolução')"
      ],
      "metadata": {
        "id": "XJweHmlOFAAg",
        "colab": {
          "base_uri": "https://localhost:8080/"
        },
        "outputId": "5d76cf33-3d4c-405f-cc98-2c23357e28a8"
      },
      "execution_count": null,
      "outputs": [
        {
          "output_type": "stream",
          "name": "stdout",
          "text": [
            "Muita chance de ter uma boa evolução\n"
          ]
        }
      ]
    },
    {
      "cell_type": "code",
      "source": [
        "#Testando paciente com fatores de risco com menor correlação\n",
        "NU_IDADE_N = int(input('Informe a idade do paciente: '))\n",
        "CS_GESTANT = int(input('In2forme se o paciente é gestante: '))\n",
        "CARDIOPATI = int(input('Informe se o paciente tem problema cardíaco: '))\n",
        "HEMATOLOGI = int(input('Informe se o paciente tem problema hematológico: '))\n",
        "HEPATICA = int(input('Informe se o paciente tem problema hepático: '))\n",
        "DIABETES = int(input('Informe se o paciente tem diabetes: '))\n",
        "NEUROLOGIC = int(input('Informe se o paci2ente tem problema neurológico: '))\n",
        "PNEUMOPATI = int(input('Informe se o paciente tem problema penumático:: '))\n",
        "IMUNODEPRE = int(input('Informe se o paciente é imunodeprimido: '))\n",
        "RENAL = int(input('Informe se o paciente tem problema renal: '))\n",
        "OBESIDADE = int(input('Informe se o paciente tem obesidade: '))\n",
        "VACINA_COV = int(input('Informe se o paciente tomou a vacina: '))\n",
        "\n",
        "novo_paciente3 = [[NU_IDADE_N, CS_GESTANT, CARDIOPATI, HEMATOLOGI, HEPATICA, DIABETES, NEUROLOGIC, PNEUMOPATI,\n",
        "       IMUNODEPRE, RENAL, OBESIDADE, VACINA_COV]]"
      ],
      "metadata": {
        "id": "I1YeLmiGFAQ1",
        "colab": {
          "base_uri": "https://localhost:8080/"
        },
        "outputId": "6ef57254-503d-401f-f6df-75f63715da87"
      },
      "execution_count": null,
      "outputs": [
        {
          "name": "stdout",
          "output_type": "stream",
          "text": [
            "Informe a idade do paciente: 30\n",
            "In2forme se o paciente é gestante: 0\n",
            "Informe se o paciente tem problema cardíaco: 0\n",
            "Informe se o paciente tem problema hematológico: 1\n",
            "Informe se o paciente tem problema hepático: 0\n",
            "Informe se o paciente tem diabetes: 1\n",
            "Informe se o paci2ente tem problema neurológico: 0\n",
            "Informe se o paciente tem problema penumático:: 0\n",
            "Informe se o paciente é imunodeprimido: 0\n",
            "Informe se o paciente tem problema renal: 0\n",
            "Informe se o paciente tem obesidade: 1\n",
            "Informe se o paciente tomou a vacina: 1\n"
          ]
        }
      ]
    },
    {
      "cell_type": "code",
      "source": [
        "novo_paciente3 =  pd.DataFrame(novo_paciente3, columns = variaveis)\n",
        "resposta = modelo3.predict(novo_paciente3)\n",
        "for i in range(len(resposta)):\n",
        "  if resposta[i] == 1.0 :\n",
        "    print('Muita chance de ter uma boa evolução')\n",
        "  else:\n",
        "    print('Pouca chance de ter uma boa evolução')"
      ],
      "metadata": {
        "id": "sqdu-HuoHzvj",
        "colab": {
          "base_uri": "https://localhost:8080/"
        },
        "outputId": "e7419857-e196-478a-810b-5466150ee772"
      },
      "execution_count": null,
      "outputs": [
        {
          "output_type": "stream",
          "name": "stdout",
          "text": [
            "Pouca chance de ter uma boa evolução\n"
          ]
        }
      ]
    },
    {
      "cell_type": "markdown",
      "source": [
        "# Conclusão"
      ],
      "metadata": {
        "id": "L3h8C3Q8u9he"
      }
    },
    {
      "cell_type": "markdown",
      "source": [
        "<p align= 'justify'>\n",
        "É possível concluir que o modelo consegue prever a evolução do paciente em casos mais extremos, que envolvem muito fatores de risco, mas não é tão sensível para casos com menos fatores de risco. Também, apresenta um desempenho melhor para os casos em que existe pouca chance de ter uma boa evolução, do que o contrário.\n",
        "</p>\n"
      ],
      "metadata": {
        "id": "F5lMu6sfvlW9"
      }
    }
  ]
}